{
 "cells": [
  {
   "cell_type": "raw",
   "id": "cefec49a",
   "metadata": {},
   "source": [
    "Aziz ERDEN 25.01.2023"
   ]
  },
  {
   "cell_type": "markdown",
   "id": "056ef61b",
   "metadata": {},
   "source": [
    "# BART Project"
   ]
  },
  {
   "cell_type": "code",
   "execution_count": 2,
   "id": "aacf966a",
   "metadata": {},
   "outputs": [],
   "source": [
    "# importing pandas library\n",
    "import pandas as pd\n",
    "import numpy as np\n",
    "import matplotlib.pyplot as plt\n",
    "import seaborn as sns\n",
    "#pd.options.mode.chained_assignment = None # bu koda gerçek veride değişiklik yapılmasını sağlar."
   ]
  },
  {
   "cell_type": "code",
   "execution_count": 3,
   "id": "24d9b628",
   "metadata": {},
   "outputs": [],
   "source": [
    "df1 = pd.read_csv(\"date-hour-soo-dest-2016.csv\")\n",
    "df2 = pd.read_csv(\"date-hour-soo-dest-2017.csv\")"
   ]
  },
  {
   "cell_type": "code",
   "execution_count": 4,
   "id": "6648801f",
   "metadata": {},
   "outputs": [],
   "source": [
    "# date sütununu datetime olarak değiştirme\n",
    "df1['Date'] = pd.to_datetime(df1['Date'])\n",
    "df2['Date'] = pd.to_datetime(df2['Date'])"
   ]
  },
  {
   "cell_type": "code",
   "execution_count": 5,
   "id": "d3108eb5",
   "metadata": {},
   "outputs": [
    {
     "name": "stdout",
     "output_type": "stream",
     "text": [
      "<class 'pandas.core.frame.DataFrame'>\n",
      "RangeIndex: 9973662 entries, 0 to 9973661\n",
      "Data columns (total 5 columns):\n",
      " #   Column               Dtype         \n",
      "---  ------               -----         \n",
      " 0   Date                 datetime64[ns]\n",
      " 1   Hour                 int64         \n",
      " 2   Origin Station       object        \n",
      " 3   Destination Station  object        \n",
      " 4   Trip Count           int64         \n",
      "dtypes: datetime64[ns](1), int64(2), object(2)\n",
      "memory usage: 380.5+ MB\n",
      "<class 'pandas.core.frame.DataFrame'>\n",
      "RangeIndex: 9974095 entries, 0 to 9974094\n",
      "Data columns (total 5 columns):\n",
      " #   Column               Dtype         \n",
      "---  ------               -----         \n",
      " 0   Date                 datetime64[ns]\n",
      " 1   Hour                 int64         \n",
      " 2   Origin Station       object        \n",
      " 3   Destination Station  object        \n",
      " 4   Trip Count           int64         \n",
      "dtypes: datetime64[ns](1), int64(2), object(2)\n",
      "memory usage: 380.5+ MB\n"
     ]
    },
    {
     "data": {
      "text/plain": [
       "(None, None)"
      ]
     },
     "execution_count": 5,
     "metadata": {},
     "output_type": "execute_result"
    }
   ],
   "source": [
    "df1.info(), df2.info()"
   ]
  },
  {
   "cell_type": "code",
   "execution_count": 6,
   "id": "ba2c026b",
   "metadata": {},
   "outputs": [
    {
     "data": {
      "text/html": [
       "<div>\n",
       "<style scoped>\n",
       "    .dataframe tbody tr th:only-of-type {\n",
       "        vertical-align: middle;\n",
       "    }\n",
       "\n",
       "    .dataframe tbody tr th {\n",
       "        vertical-align: top;\n",
       "    }\n",
       "\n",
       "    .dataframe thead th {\n",
       "        text-align: right;\n",
       "    }\n",
       "</style>\n",
       "<table border=\"1\" class=\"dataframe\">\n",
       "  <thead>\n",
       "    <tr style=\"text-align: right;\">\n",
       "      <th></th>\n",
       "      <th>Date</th>\n",
       "      <th>Hour</th>\n",
       "      <th>Origin Station</th>\n",
       "      <th>Destination Station</th>\n",
       "      <th>Trip Count</th>\n",
       "    </tr>\n",
       "  </thead>\n",
       "  <tbody>\n",
       "    <tr>\n",
       "      <th>9971577</th>\n",
       "      <td>2016-12-31</td>\n",
       "      <td>23</td>\n",
       "      <td>WOAK</td>\n",
       "      <td>PLZA</td>\n",
       "      <td>1</td>\n",
       "    </tr>\n",
       "    <tr>\n",
       "      <th>9971578</th>\n",
       "      <td>2016-12-31</td>\n",
       "      <td>23</td>\n",
       "      <td>WOAK</td>\n",
       "      <td>POWL</td>\n",
       "      <td>30</td>\n",
       "    </tr>\n",
       "    <tr>\n",
       "      <th>9971579</th>\n",
       "      <td>2016-12-31</td>\n",
       "      <td>23</td>\n",
       "      <td>WOAK</td>\n",
       "      <td>RICH</td>\n",
       "      <td>2</td>\n",
       "    </tr>\n",
       "    <tr>\n",
       "      <th>9971580</th>\n",
       "      <td>2016-12-31</td>\n",
       "      <td>23</td>\n",
       "      <td>WOAK</td>\n",
       "      <td>ROCK</td>\n",
       "      <td>2</td>\n",
       "    </tr>\n",
       "    <tr>\n",
       "      <th>9971581</th>\n",
       "      <td>2016-12-31</td>\n",
       "      <td>23</td>\n",
       "      <td>WOAK</td>\n",
       "      <td>WOAK</td>\n",
       "      <td>1</td>\n",
       "    </tr>\n",
       "  </tbody>\n",
       "</table>\n",
       "</div>"
      ],
      "text/plain": [
       "              Date  Hour Origin Station Destination Station  Trip Count\n",
       "9971577 2016-12-31    23           WOAK                PLZA           1\n",
       "9971578 2016-12-31    23           WOAK                POWL          30\n",
       "9971579 2016-12-31    23           WOAK                RICH           2\n",
       "9971580 2016-12-31    23           WOAK                ROCK           2\n",
       "9971581 2016-12-31    23           WOAK                WOAK           1"
      ]
     },
     "execution_count": 6,
     "metadata": {},
     "output_type": "execute_result"
    }
   ],
   "source": [
    "# burda sadece 2016 yılına ait verileri tutar\n",
    "df1 = df1[df1[\"Date\"].dt.year == 2016]\n",
    "df1.tail()"
   ]
  },
  {
   "cell_type": "code",
   "execution_count": 7,
   "id": "72b069db",
   "metadata": {},
   "outputs": [
    {
     "data": {
      "text/html": [
       "<div>\n",
       "<style scoped>\n",
       "    .dataframe tbody tr th:only-of-type {\n",
       "        vertical-align: middle;\n",
       "    }\n",
       "\n",
       "    .dataframe tbody tr th {\n",
       "        vertical-align: top;\n",
       "    }\n",
       "\n",
       "    .dataframe thead th {\n",
       "        text-align: right;\n",
       "    }\n",
       "</style>\n",
       "<table border=\"1\" class=\"dataframe\">\n",
       "  <thead>\n",
       "    <tr style=\"text-align: right;\">\n",
       "      <th></th>\n",
       "      <th>Date</th>\n",
       "      <th>Hour</th>\n",
       "      <th>Origin Station</th>\n",
       "      <th>Destination Station</th>\n",
       "      <th>Trip Count</th>\n",
       "    </tr>\n",
       "  </thead>\n",
       "  <tbody>\n",
       "    <tr>\n",
       "      <th>9972073</th>\n",
       "      <td>2017-12-31</td>\n",
       "      <td>23</td>\n",
       "      <td>WOAK</td>\n",
       "      <td>MLBR</td>\n",
       "      <td>2</td>\n",
       "    </tr>\n",
       "    <tr>\n",
       "      <th>9972074</th>\n",
       "      <td>2017-12-31</td>\n",
       "      <td>23</td>\n",
       "      <td>WOAK</td>\n",
       "      <td>MONT</td>\n",
       "      <td>36</td>\n",
       "    </tr>\n",
       "    <tr>\n",
       "      <th>9972075</th>\n",
       "      <td>2017-12-31</td>\n",
       "      <td>23</td>\n",
       "      <td>WOAK</td>\n",
       "      <td>POWL</td>\n",
       "      <td>15</td>\n",
       "    </tr>\n",
       "    <tr>\n",
       "      <th>9972076</th>\n",
       "      <td>2017-12-31</td>\n",
       "      <td>23</td>\n",
       "      <td>WOAK</td>\n",
       "      <td>SFIA</td>\n",
       "      <td>2</td>\n",
       "    </tr>\n",
       "    <tr>\n",
       "      <th>9972077</th>\n",
       "      <td>2017-12-31</td>\n",
       "      <td>23</td>\n",
       "      <td>WOAK</td>\n",
       "      <td>WOAK</td>\n",
       "      <td>1</td>\n",
       "    </tr>\n",
       "  </tbody>\n",
       "</table>\n",
       "</div>"
      ],
      "text/plain": [
       "              Date  Hour Origin Station Destination Station  Trip Count\n",
       "9972073 2017-12-31    23           WOAK                MLBR           2\n",
       "9972074 2017-12-31    23           WOAK                MONT          36\n",
       "9972075 2017-12-31    23           WOAK                POWL          15\n",
       "9972076 2017-12-31    23           WOAK                SFIA           2\n",
       "9972077 2017-12-31    23           WOAK                WOAK           1"
      ]
     },
     "execution_count": 7,
     "metadata": {},
     "output_type": "execute_result"
    }
   ],
   "source": [
    "# burda sadece 2017 yılına ait verileri tutar\n",
    "df2 = df2[df2[\"Date\"].dt.year == 2017]\n",
    "df2.tail()"
   ]
  },
  {
   "cell_type": "code",
   "execution_count": 8,
   "id": "41770003",
   "metadata": {},
   "outputs": [],
   "source": [
    "# df1 ve df2 yi df de birleştirme\n",
    "df = pd.concat([df1,df2])"
   ]
  },
  {
   "cell_type": "code",
   "execution_count": 9,
   "id": "58ff4542",
   "metadata": {},
   "outputs": [
    {
     "data": {
      "text/html": [
       "<div>\n",
       "<style scoped>\n",
       "    .dataframe tbody tr th:only-of-type {\n",
       "        vertical-align: middle;\n",
       "    }\n",
       "\n",
       "    .dataframe tbody tr th {\n",
       "        vertical-align: top;\n",
       "    }\n",
       "\n",
       "    .dataframe thead th {\n",
       "        text-align: right;\n",
       "    }\n",
       "</style>\n",
       "<table border=\"1\" class=\"dataframe\">\n",
       "  <thead>\n",
       "    <tr style=\"text-align: right;\">\n",
       "      <th></th>\n",
       "      <th>Date</th>\n",
       "      <th>Hour</th>\n",
       "      <th>Origin Station</th>\n",
       "      <th>Destination Station</th>\n",
       "      <th>Trip Count</th>\n",
       "    </tr>\n",
       "  </thead>\n",
       "  <tbody>\n",
       "    <tr>\n",
       "      <th>0</th>\n",
       "      <td>2016-01-01</td>\n",
       "      <td>0</td>\n",
       "      <td>12TH</td>\n",
       "      <td>12TH</td>\n",
       "      <td>1</td>\n",
       "    </tr>\n",
       "    <tr>\n",
       "      <th>1</th>\n",
       "      <td>2016-01-01</td>\n",
       "      <td>0</td>\n",
       "      <td>12TH</td>\n",
       "      <td>16TH</td>\n",
       "      <td>1</td>\n",
       "    </tr>\n",
       "    <tr>\n",
       "      <th>2</th>\n",
       "      <td>2016-01-01</td>\n",
       "      <td>0</td>\n",
       "      <td>12TH</td>\n",
       "      <td>24TH</td>\n",
       "      <td>4</td>\n",
       "    </tr>\n",
       "    <tr>\n",
       "      <th>3</th>\n",
       "      <td>2016-01-01</td>\n",
       "      <td>0</td>\n",
       "      <td>12TH</td>\n",
       "      <td>ASHB</td>\n",
       "      <td>4</td>\n",
       "    </tr>\n",
       "    <tr>\n",
       "      <th>4</th>\n",
       "      <td>2016-01-01</td>\n",
       "      <td>0</td>\n",
       "      <td>12TH</td>\n",
       "      <td>BALB</td>\n",
       "      <td>2</td>\n",
       "    </tr>\n",
       "    <tr>\n",
       "      <th>...</th>\n",
       "      <td>...</td>\n",
       "      <td>...</td>\n",
       "      <td>...</td>\n",
       "      <td>...</td>\n",
       "      <td>...</td>\n",
       "    </tr>\n",
       "    <tr>\n",
       "      <th>9972073</th>\n",
       "      <td>2017-12-31</td>\n",
       "      <td>23</td>\n",
       "      <td>WOAK</td>\n",
       "      <td>MLBR</td>\n",
       "      <td>2</td>\n",
       "    </tr>\n",
       "    <tr>\n",
       "      <th>9972074</th>\n",
       "      <td>2017-12-31</td>\n",
       "      <td>23</td>\n",
       "      <td>WOAK</td>\n",
       "      <td>MONT</td>\n",
       "      <td>36</td>\n",
       "    </tr>\n",
       "    <tr>\n",
       "      <th>9972075</th>\n",
       "      <td>2017-12-31</td>\n",
       "      <td>23</td>\n",
       "      <td>WOAK</td>\n",
       "      <td>POWL</td>\n",
       "      <td>15</td>\n",
       "    </tr>\n",
       "    <tr>\n",
       "      <th>9972076</th>\n",
       "      <td>2017-12-31</td>\n",
       "      <td>23</td>\n",
       "      <td>WOAK</td>\n",
       "      <td>SFIA</td>\n",
       "      <td>2</td>\n",
       "    </tr>\n",
       "    <tr>\n",
       "      <th>9972077</th>\n",
       "      <td>2017-12-31</td>\n",
       "      <td>23</td>\n",
       "      <td>WOAK</td>\n",
       "      <td>WOAK</td>\n",
       "      <td>1</td>\n",
       "    </tr>\n",
       "  </tbody>\n",
       "</table>\n",
       "<p>19943660 rows × 5 columns</p>\n",
       "</div>"
      ],
      "text/plain": [
       "              Date  Hour Origin Station Destination Station  Trip Count\n",
       "0       2016-01-01     0           12TH                12TH           1\n",
       "1       2016-01-01     0           12TH                16TH           1\n",
       "2       2016-01-01     0           12TH                24TH           4\n",
       "3       2016-01-01     0           12TH                ASHB           4\n",
       "4       2016-01-01     0           12TH                BALB           2\n",
       "...            ...   ...            ...                 ...         ...\n",
       "9972073 2017-12-31    23           WOAK                MLBR           2\n",
       "9972074 2017-12-31    23           WOAK                MONT          36\n",
       "9972075 2017-12-31    23           WOAK                POWL          15\n",
       "9972076 2017-12-31    23           WOAK                SFIA           2\n",
       "9972077 2017-12-31    23           WOAK                WOAK           1\n",
       "\n",
       "[19943660 rows x 5 columns]"
      ]
     },
     "execution_count": 9,
     "metadata": {},
     "output_type": "execute_result"
    }
   ],
   "source": [
    "df"
   ]
  },
  {
   "cell_type": "code",
   "execution_count": 10,
   "id": "db00a55b",
   "metadata": {},
   "outputs": [
    {
     "data": {
      "text/plain": [
       "((19943660, 5), (9971582, 5), (9972078, 5))"
      ]
     },
     "execution_count": 10,
     "metadata": {},
     "output_type": "execute_result"
    }
   ],
   "source": [
    "df.shape, df1.shape, df2.shape"
   ]
  },
  {
   "cell_type": "code",
   "execution_count": 11,
   "id": "391eb435",
   "metadata": {},
   "outputs": [
    {
     "data": {
      "text/plain": [
       "Index(['date', 'hour', 'origin station', 'destination station', 'trip count'], dtype='object')"
      ]
     },
     "execution_count": 11,
     "metadata": {},
     "output_type": "execute_result"
    }
   ],
   "source": [
    "# Sütun adlarını küçük harfe çevirme\n",
    "df.columns = [x.lower() for x in df.columns]\n",
    "df.columns"
   ]
  },
  {
   "cell_type": "code",
   "execution_count": 12,
   "id": "4cf69d2a",
   "metadata": {},
   "outputs": [
    {
     "data": {
      "text/html": [
       "<div>\n",
       "<style scoped>\n",
       "    .dataframe tbody tr th:only-of-type {\n",
       "        vertical-align: middle;\n",
       "    }\n",
       "\n",
       "    .dataframe tbody tr th {\n",
       "        vertical-align: top;\n",
       "    }\n",
       "\n",
       "    .dataframe thead th {\n",
       "        text-align: right;\n",
       "    }\n",
       "</style>\n",
       "<table border=\"1\" class=\"dataframe\">\n",
       "  <thead>\n",
       "    <tr style=\"text-align: right;\">\n",
       "      <th></th>\n",
       "      <th>date</th>\n",
       "      <th>hour</th>\n",
       "      <th>origin</th>\n",
       "      <th>destination</th>\n",
       "      <th>trip_count</th>\n",
       "    </tr>\n",
       "  </thead>\n",
       "  <tbody>\n",
       "    <tr>\n",
       "      <th>0</th>\n",
       "      <td>2016-01-01</td>\n",
       "      <td>0</td>\n",
       "      <td>12TH</td>\n",
       "      <td>12TH</td>\n",
       "      <td>1</td>\n",
       "    </tr>\n",
       "    <tr>\n",
       "      <th>1</th>\n",
       "      <td>2016-01-01</td>\n",
       "      <td>0</td>\n",
       "      <td>12TH</td>\n",
       "      <td>16TH</td>\n",
       "      <td>1</td>\n",
       "    </tr>\n",
       "    <tr>\n",
       "      <th>2</th>\n",
       "      <td>2016-01-01</td>\n",
       "      <td>0</td>\n",
       "      <td>12TH</td>\n",
       "      <td>24TH</td>\n",
       "      <td>4</td>\n",
       "    </tr>\n",
       "    <tr>\n",
       "      <th>3</th>\n",
       "      <td>2016-01-01</td>\n",
       "      <td>0</td>\n",
       "      <td>12TH</td>\n",
       "      <td>ASHB</td>\n",
       "      <td>4</td>\n",
       "    </tr>\n",
       "    <tr>\n",
       "      <th>4</th>\n",
       "      <td>2016-01-01</td>\n",
       "      <td>0</td>\n",
       "      <td>12TH</td>\n",
       "      <td>BALB</td>\n",
       "      <td>2</td>\n",
       "    </tr>\n",
       "  </tbody>\n",
       "</table>\n",
       "</div>"
      ],
      "text/plain": [
       "        date  hour origin destination  trip_count\n",
       "0 2016-01-01     0   12TH        12TH           1\n",
       "1 2016-01-01     0   12TH        16TH           1\n",
       "2 2016-01-01     0   12TH        24TH           4\n",
       "3 2016-01-01     0   12TH        ASHB           4\n",
       "4 2016-01-01     0   12TH        BALB           2"
      ]
     },
     "execution_count": 12,
     "metadata": {},
     "output_type": "execute_result"
    }
   ],
   "source": [
    "# boşluklu olan sütunları kolay yazmak için kısaltma veya birleştirme işlemi\n",
    "df = df.rename(columns={\"origin station\": \"origin\",\"destination station\": \"destination\",\"trip count\": \"trip_count\"})\n",
    "df.head()"
   ]
  },
  {
   "cell_type": "raw",
   "id": "01707d0f",
   "metadata": {},
   "source": [
    "# hareket saatleri arasındaki fark dk olarak yeni bir sütunda ekleme yani departure time\n",
    "df[\"dep_time\"] = 60/df[\"trip_count\"]\n",
    "df[\"dep_time\"] = df[\"dep_time\"].astype(\"int32\")\n",
    "df.head()"
   ]
  },
  {
   "cell_type": "code",
   "execution_count": 13,
   "id": "ed55fa41",
   "metadata": {},
   "outputs": [
    {
     "data": {
      "text/html": [
       "<div>\n",
       "<style scoped>\n",
       "    .dataframe tbody tr th:only-of-type {\n",
       "        vertical-align: middle;\n",
       "    }\n",
       "\n",
       "    .dataframe tbody tr th {\n",
       "        vertical-align: top;\n",
       "    }\n",
       "\n",
       "    .dataframe thead th {\n",
       "        text-align: right;\n",
       "    }\n",
       "</style>\n",
       "<table border=\"1\" class=\"dataframe\">\n",
       "  <thead>\n",
       "    <tr style=\"text-align: right;\">\n",
       "      <th></th>\n",
       "      <th>date</th>\n",
       "      <th>hour</th>\n",
       "      <th>origin</th>\n",
       "      <th>destination</th>\n",
       "      <th>trip_count</th>\n",
       "      <th>day</th>\n",
       "    </tr>\n",
       "  </thead>\n",
       "  <tbody>\n",
       "    <tr>\n",
       "      <th>0</th>\n",
       "      <td>2016-01-01</td>\n",
       "      <td>0</td>\n",
       "      <td>12TH</td>\n",
       "      <td>12TH</td>\n",
       "      <td>1</td>\n",
       "      <td>1</td>\n",
       "    </tr>\n",
       "    <tr>\n",
       "      <th>1</th>\n",
       "      <td>2016-01-01</td>\n",
       "      <td>0</td>\n",
       "      <td>12TH</td>\n",
       "      <td>16TH</td>\n",
       "      <td>1</td>\n",
       "      <td>1</td>\n",
       "    </tr>\n",
       "    <tr>\n",
       "      <th>2</th>\n",
       "      <td>2016-01-01</td>\n",
       "      <td>0</td>\n",
       "      <td>12TH</td>\n",
       "      <td>24TH</td>\n",
       "      <td>4</td>\n",
       "      <td>1</td>\n",
       "    </tr>\n",
       "    <tr>\n",
       "      <th>3</th>\n",
       "      <td>2016-01-01</td>\n",
       "      <td>0</td>\n",
       "      <td>12TH</td>\n",
       "      <td>ASHB</td>\n",
       "      <td>4</td>\n",
       "      <td>1</td>\n",
       "    </tr>\n",
       "    <tr>\n",
       "      <th>4</th>\n",
       "      <td>2016-01-01</td>\n",
       "      <td>0</td>\n",
       "      <td>12TH</td>\n",
       "      <td>BALB</td>\n",
       "      <td>2</td>\n",
       "      <td>1</td>\n",
       "    </tr>\n",
       "  </tbody>\n",
       "</table>\n",
       "</div>"
      ],
      "text/plain": [
       "        date  hour origin destination  trip_count  day\n",
       "0 2016-01-01     0   12TH        12TH           1    1\n",
       "1 2016-01-01     0   12TH        16TH           1    1\n",
       "2 2016-01-01     0   12TH        24TH           4    1\n",
       "3 2016-01-01     0   12TH        ASHB           4    1\n",
       "4 2016-01-01     0   12TH        BALB           2    1"
      ]
     },
     "execution_count": 13,
     "metadata": {},
     "output_type": "execute_result"
    }
   ],
   "source": [
    "# day adlı sütuna gün sayısını yazma\n",
    "df['day'] = (df[\"date\"].dt.dayofyear - 1) + 1\n",
    "df.head()"
   ]
  },
  {
   "cell_type": "code",
   "execution_count": 14,
   "id": "4cb081e2",
   "metadata": {},
   "outputs": [
    {
     "data": {
      "text/html": [
       "<div>\n",
       "<style scoped>\n",
       "    .dataframe tbody tr th:only-of-type {\n",
       "        vertical-align: middle;\n",
       "    }\n",
       "\n",
       "    .dataframe tbody tr th {\n",
       "        vertical-align: top;\n",
       "    }\n",
       "\n",
       "    .dataframe thead th {\n",
       "        text-align: right;\n",
       "    }\n",
       "</style>\n",
       "<table border=\"1\" class=\"dataframe\">\n",
       "  <thead>\n",
       "    <tr style=\"text-align: right;\">\n",
       "      <th></th>\n",
       "      <th>date</th>\n",
       "      <th>hour</th>\n",
       "      <th>origin</th>\n",
       "      <th>destination</th>\n",
       "      <th>trip_count</th>\n",
       "      <th>day</th>\n",
       "      <th>week</th>\n",
       "    </tr>\n",
       "  </thead>\n",
       "  <tbody>\n",
       "    <tr>\n",
       "      <th>3532844</th>\n",
       "      <td>2017-05-11</td>\n",
       "      <td>22</td>\n",
       "      <td>MONT</td>\n",
       "      <td>HAYW</td>\n",
       "      <td>14</td>\n",
       "      <td>131</td>\n",
       "      <td>71</td>\n",
       "    </tr>\n",
       "    <tr>\n",
       "      <th>2402428</th>\n",
       "      <td>2017-03-31</td>\n",
       "      <td>18</td>\n",
       "      <td>19TH</td>\n",
       "      <td>OAKL</td>\n",
       "      <td>8</td>\n",
       "      <td>90</td>\n",
       "      <td>66</td>\n",
       "    </tr>\n",
       "    <tr>\n",
       "      <th>8168731</th>\n",
       "      <td>2016-10-25</td>\n",
       "      <td>19</td>\n",
       "      <td>16TH</td>\n",
       "      <td>BALB</td>\n",
       "      <td>44</td>\n",
       "      <td>299</td>\n",
       "      <td>43</td>\n",
       "    </tr>\n",
       "    <tr>\n",
       "      <th>615982</th>\n",
       "      <td>2016-01-24</td>\n",
       "      <td>12</td>\n",
       "      <td>PHIL</td>\n",
       "      <td>19TH</td>\n",
       "      <td>1</td>\n",
       "      <td>24</td>\n",
       "      <td>4</td>\n",
       "    </tr>\n",
       "    <tr>\n",
       "      <th>6721741</th>\n",
       "      <td>2016-09-02</td>\n",
       "      <td>16</td>\n",
       "      <td>DUBL</td>\n",
       "      <td>WDUB</td>\n",
       "      <td>2</td>\n",
       "      <td>246</td>\n",
       "      <td>36</td>\n",
       "    </tr>\n",
       "  </tbody>\n",
       "</table>\n",
       "</div>"
      ],
      "text/plain": [
       "              date  hour origin destination  trip_count  day  week\n",
       "3532844 2017-05-11    22   MONT        HAYW          14  131    71\n",
       "2402428 2017-03-31    18   19TH        OAKL           8   90    66\n",
       "8168731 2016-10-25    19   16TH        BALB          44  299    43\n",
       "615982  2016-01-24    12   PHIL        19TH           1   24     4\n",
       "6721741 2016-09-02    16   DUBL        WDUB           2  246    36"
      ]
     },
     "execution_count": 14,
     "metadata": {},
     "output_type": "execute_result"
    }
   ],
   "source": [
    "# week adında bir sütun oluşturup hafta sayısını belirleme\n",
    "df['week'] = ((df[\"date\"] - df[\"date\"].min()).dt.days/7)+1\n",
    "\n",
    "# week verileri floattan int e çevirme\n",
    "df.week = df.week.astype(\"int32\")\n",
    "df.sample(5)"
   ]
  },
  {
   "cell_type": "code",
   "execution_count": 15,
   "id": "d20be8e1",
   "metadata": {},
   "outputs": [],
   "source": [
    "import datetime\n",
    "import calendar"
   ]
  },
  {
   "cell_type": "code",
   "execution_count": 16,
   "id": "28c62c12",
   "metadata": {},
   "outputs": [
    {
     "data": {
      "text/html": [
       "<div>\n",
       "<style scoped>\n",
       "    .dataframe tbody tr th:only-of-type {\n",
       "        vertical-align: middle;\n",
       "    }\n",
       "\n",
       "    .dataframe tbody tr th {\n",
       "        vertical-align: top;\n",
       "    }\n",
       "\n",
       "    .dataframe thead th {\n",
       "        text-align: right;\n",
       "    }\n",
       "</style>\n",
       "<table border=\"1\" class=\"dataframe\">\n",
       "  <thead>\n",
       "    <tr style=\"text-align: right;\">\n",
       "      <th></th>\n",
       "      <th>date</th>\n",
       "      <th>hour</th>\n",
       "      <th>origin</th>\n",
       "      <th>destination</th>\n",
       "      <th>trip_count</th>\n",
       "      <th>day</th>\n",
       "      <th>week</th>\n",
       "      <th>day_name</th>\n",
       "    </tr>\n",
       "  </thead>\n",
       "  <tbody>\n",
       "    <tr>\n",
       "      <th>4910639</th>\n",
       "      <td>2016-06-28</td>\n",
       "      <td>8</td>\n",
       "      <td>MLBR</td>\n",
       "      <td>POWL</td>\n",
       "      <td>123</td>\n",
       "      <td>180</td>\n",
       "      <td>26</td>\n",
       "      <td>Tuesday</td>\n",
       "    </tr>\n",
       "    <tr>\n",
       "      <th>1919292</th>\n",
       "      <td>2016-03-11</td>\n",
       "      <td>10</td>\n",
       "      <td>NBRK</td>\n",
       "      <td>WCRK</td>\n",
       "      <td>2</td>\n",
       "      <td>71</td>\n",
       "      <td>11</td>\n",
       "      <td>Friday</td>\n",
       "    </tr>\n",
       "    <tr>\n",
       "      <th>8682614</th>\n",
       "      <td>2017-11-13</td>\n",
       "      <td>22</td>\n",
       "      <td>CONC</td>\n",
       "      <td>POWL</td>\n",
       "      <td>4</td>\n",
       "      <td>317</td>\n",
       "      <td>98</td>\n",
       "      <td>Monday</td>\n",
       "    </tr>\n",
       "    <tr>\n",
       "      <th>9527923</th>\n",
       "      <td>2016-12-14</td>\n",
       "      <td>21</td>\n",
       "      <td>PITT</td>\n",
       "      <td>BALB</td>\n",
       "      <td>1</td>\n",
       "      <td>349</td>\n",
       "      <td>50</td>\n",
       "      <td>Wednesday</td>\n",
       "    </tr>\n",
       "    <tr>\n",
       "      <th>9301230</th>\n",
       "      <td>2016-12-06</td>\n",
       "      <td>16</td>\n",
       "      <td>SFIA</td>\n",
       "      <td>NCON</td>\n",
       "      <td>5</td>\n",
       "      <td>341</td>\n",
       "      <td>49</td>\n",
       "      <td>Tuesday</td>\n",
       "    </tr>\n",
       "  </tbody>\n",
       "</table>\n",
       "</div>"
      ],
      "text/plain": [
       "              date  hour origin destination  trip_count  day  week   day_name\n",
       "4910639 2016-06-28     8   MLBR        POWL         123  180    26    Tuesday\n",
       "1919292 2016-03-11    10   NBRK        WCRK           2   71    11     Friday\n",
       "8682614 2017-11-13    22   CONC        POWL           4  317    98     Monday\n",
       "9527923 2016-12-14    21   PITT        BALB           1  349    50  Wednesday\n",
       "9301230 2016-12-06    16   SFIA        NCON           5  341    49    Tuesday"
      ]
     },
     "execution_count": 16,
     "metadata": {},
     "output_type": "execute_result"
    }
   ],
   "source": [
    "# Tarihe göre gün adlarını df e ekleme\n",
    "aziz = []\n",
    "for time in df[\"date\"]:\n",
    "    aziz.append(calendar.day_name[time.weekday()])\n",
    "\n",
    "df[\"day_name\"] = aziz\n",
    "df.sample(5)"
   ]
  },
  {
   "cell_type": "code",
   "execution_count": 17,
   "id": "6590f4ea",
   "metadata": {
    "scrolled": true
   },
   "outputs": [
    {
     "data": {
      "text/html": [
       "<div>\n",
       "<style scoped>\n",
       "    .dataframe tbody tr th:only-of-type {\n",
       "        vertical-align: middle;\n",
       "    }\n",
       "\n",
       "    .dataframe tbody tr th {\n",
       "        vertical-align: top;\n",
       "    }\n",
       "\n",
       "    .dataframe thead th {\n",
       "        text-align: right;\n",
       "    }\n",
       "</style>\n",
       "<table border=\"1\" class=\"dataframe\">\n",
       "  <thead>\n",
       "    <tr style=\"text-align: right;\">\n",
       "      <th></th>\n",
       "      <th>date</th>\n",
       "      <th>hour</th>\n",
       "      <th>origin</th>\n",
       "      <th>destination</th>\n",
       "      <th>trip_count</th>\n",
       "      <th>day</th>\n",
       "      <th>week</th>\n",
       "      <th>day_name</th>\n",
       "      <th>route</th>\n",
       "    </tr>\n",
       "  </thead>\n",
       "  <tbody>\n",
       "    <tr>\n",
       "      <th>0</th>\n",
       "      <td>2016-01-01</td>\n",
       "      <td>0</td>\n",
       "      <td>12TH</td>\n",
       "      <td>12TH</td>\n",
       "      <td>1</td>\n",
       "      <td>1</td>\n",
       "      <td>1</td>\n",
       "      <td>Friday</td>\n",
       "      <td>12TH-12TH</td>\n",
       "    </tr>\n",
       "    <tr>\n",
       "      <th>1</th>\n",
       "      <td>2016-01-01</td>\n",
       "      <td>0</td>\n",
       "      <td>12TH</td>\n",
       "      <td>16TH</td>\n",
       "      <td>1</td>\n",
       "      <td>1</td>\n",
       "      <td>1</td>\n",
       "      <td>Friday</td>\n",
       "      <td>12TH-16TH</td>\n",
       "    </tr>\n",
       "    <tr>\n",
       "      <th>2</th>\n",
       "      <td>2016-01-01</td>\n",
       "      <td>0</td>\n",
       "      <td>12TH</td>\n",
       "      <td>24TH</td>\n",
       "      <td>4</td>\n",
       "      <td>1</td>\n",
       "      <td>1</td>\n",
       "      <td>Friday</td>\n",
       "      <td>12TH-24TH</td>\n",
       "    </tr>\n",
       "    <tr>\n",
       "      <th>3</th>\n",
       "      <td>2016-01-01</td>\n",
       "      <td>0</td>\n",
       "      <td>12TH</td>\n",
       "      <td>ASHB</td>\n",
       "      <td>4</td>\n",
       "      <td>1</td>\n",
       "      <td>1</td>\n",
       "      <td>Friday</td>\n",
       "      <td>12TH-ASHB</td>\n",
       "    </tr>\n",
       "    <tr>\n",
       "      <th>4</th>\n",
       "      <td>2016-01-01</td>\n",
       "      <td>0</td>\n",
       "      <td>12TH</td>\n",
       "      <td>BALB</td>\n",
       "      <td>2</td>\n",
       "      <td>1</td>\n",
       "      <td>1</td>\n",
       "      <td>Friday</td>\n",
       "      <td>12TH-BALB</td>\n",
       "    </tr>\n",
       "  </tbody>\n",
       "</table>\n",
       "</div>"
      ],
      "text/plain": [
       "        date  hour origin destination  trip_count  day  week day_name  \\\n",
       "0 2016-01-01     0   12TH        12TH           1    1     1   Friday   \n",
       "1 2016-01-01     0   12TH        16TH           1    1     1   Friday   \n",
       "2 2016-01-01     0   12TH        24TH           4    1     1   Friday   \n",
       "3 2016-01-01     0   12TH        ASHB           4    1     1   Friday   \n",
       "4 2016-01-01     0   12TH        BALB           2    1     1   Friday   \n",
       "\n",
       "       route  \n",
       "0  12TH-12TH  \n",
       "1  12TH-16TH  \n",
       "2  12TH-24TH  \n",
       "3  12TH-ASHB  \n",
       "4  12TH-BALB  "
      ]
     },
     "execution_count": 17,
     "metadata": {},
     "output_type": "execute_result"
    }
   ],
   "source": [
    "# Rotayı belirleyip yeni bir sütuna ekleme\n",
    "df[\"route\"] = df[\"origin\"] + \"-\" + df[\"destination\"]\n",
    "df.head()"
   ]
  },
  {
   "cell_type": "code",
   "execution_count": 18,
   "id": "41fb604f",
   "metadata": {},
   "outputs": [
    {
     "data": {
      "text/plain": [
       "Index(['date', 'hour', 'origin', 'destination', 'trip_count', 'day', 'week',\n",
       "       'day_name', 'route'],\n",
       "      dtype='object')"
      ]
     },
     "execution_count": 18,
     "metadata": {},
     "output_type": "execute_result"
    }
   ],
   "source": [
    "df.columns"
   ]
  },
  {
   "cell_type": "code",
   "execution_count": 19,
   "id": "19fc4f71",
   "metadata": {},
   "outputs": [],
   "source": [
    "df = df[['date', 'week', 'day', 'day_name', 'hour', 'origin', 'destination', 'trip_count', 'route']]"
   ]
  },
  {
   "cell_type": "markdown",
   "id": "c216717e",
   "metadata": {},
   "source": [
    "# Data Analytics Questions"
   ]
  },
  {
   "cell_type": "markdown",
   "id": "18328c1f",
   "metadata": {},
   "source": [
    "### 1. Which BART station is the busiest?"
   ]
  },
  {
   "cell_type": "code",
   "execution_count": 20,
   "id": "c26c72a0",
   "metadata": {},
   "outputs": [
    {
     "data": {
      "text/html": [
       "<div>\n",
       "<style scoped>\n",
       "    .dataframe tbody tr th:only-of-type {\n",
       "        vertical-align: middle;\n",
       "    }\n",
       "\n",
       "    .dataframe tbody tr th {\n",
       "        vertical-align: top;\n",
       "    }\n",
       "\n",
       "    .dataframe thead th {\n",
       "        text-align: right;\n",
       "    }\n",
       "</style>\n",
       "<table border=\"1\" class=\"dataframe\">\n",
       "  <thead>\n",
       "    <tr style=\"text-align: right;\">\n",
       "      <th></th>\n",
       "      <th>origin</th>\n",
       "      <th>trip_count</th>\n",
       "    </tr>\n",
       "  </thead>\n",
       "  <tbody>\n",
       "    <tr>\n",
       "      <th>25</th>\n",
       "      <td>MONT</td>\n",
       "      <td>23784981</td>\n",
       "    </tr>\n",
       "    <tr>\n",
       "      <th>16</th>\n",
       "      <td>EMBR</td>\n",
       "      <td>23343712</td>\n",
       "    </tr>\n",
       "    <tr>\n",
       "      <th>33</th>\n",
       "      <td>POWL</td>\n",
       "      <td>20783069</td>\n",
       "    </tr>\n",
       "    <tr>\n",
       "      <th>8</th>\n",
       "      <td>CIVC</td>\n",
       "      <td>15010620</td>\n",
       "    </tr>\n",
       "    <tr>\n",
       "      <th>3</th>\n",
       "      <td>24TH</td>\n",
       "      <td>7997998</td>\n",
       "    </tr>\n",
       "  </tbody>\n",
       "</table>\n",
       "</div>"
      ],
      "text/plain": [
       "   origin  trip_count\n",
       "25   MONT    23784981\n",
       "16   EMBR    23343712\n",
       "33   POWL    20783069\n",
       "8    CIVC    15010620\n",
       "3    24TH     7997998"
      ]
     },
     "execution_count": 20,
     "metadata": {},
     "output_type": "execute_result"
    }
   ],
   "source": [
    "# Yıl boyunca origin istasyonlarından en kalabalık olanı yani tur sayısı en çok olanı.\n",
    "aziz = df.groupby([\"origin\"])[\"trip_count\"].sum().reset_index().sort_values(by = \"trip_count\", ascending = False)\n",
    "aziz[0:5]"
   ]
  },
  {
   "cell_type": "code",
   "execution_count": 21,
   "id": "7cbda082",
   "metadata": {},
   "outputs": [
    {
     "data": {
      "image/png": "[encoded data removed]",
      "text/plain": [
       "<Figure size 720x432 with 1 Axes>"
      ]
     },
     "metadata": {},
     "output_type": "display_data"
    }
   ],
   "source": [
    "sns.set(rc={'figure.figsize':(10,6)})\n",
    "plt.tick_params(axis='x', rotation=90)\n",
    "sns.barplot(x=aziz.origin, y=aziz.trip_count);"
   ]
  },
  {
   "cell_type": "code",
   "execution_count": 22,
   "id": "47325ffb",
   "metadata": {},
   "outputs": [
    {
     "data": {
      "text/html": [
       "<div>\n",
       "<style scoped>\n",
       "    .dataframe tbody tr th:only-of-type {\n",
       "        vertical-align: middle;\n",
       "    }\n",
       "\n",
       "    .dataframe tbody tr th {\n",
       "        vertical-align: top;\n",
       "    }\n",
       "\n",
       "    .dataframe thead th {\n",
       "        text-align: right;\n",
       "    }\n",
       "</style>\n",
       "<table border=\"1\" class=\"dataframe\">\n",
       "  <thead>\n",
       "    <tr style=\"text-align: right;\">\n",
       "      <th></th>\n",
       "      <th>origin</th>\n",
       "      <th>trip_count</th>\n",
       "    </tr>\n",
       "  </thead>\n",
       "  <tbody>\n",
       "    <tr>\n",
       "      <th>25</th>\n",
       "      <td>MONT</td>\n",
       "      <td>23784981</td>\n",
       "    </tr>\n",
       "    <tr>\n",
       "      <th>16</th>\n",
       "      <td>EMBR</td>\n",
       "      <td>23343712</td>\n",
       "    </tr>\n",
       "    <tr>\n",
       "      <th>33</th>\n",
       "      <td>POWL</td>\n",
       "      <td>20783069</td>\n",
       "    </tr>\n",
       "    <tr>\n",
       "      <th>8</th>\n",
       "      <td>CIVC</td>\n",
       "      <td>15010620</td>\n",
       "    </tr>\n",
       "    <tr>\n",
       "      <th>3</th>\n",
       "      <td>24TH</td>\n",
       "      <td>7997998</td>\n",
       "    </tr>\n",
       "  </tbody>\n",
       "</table>\n",
       "</div>"
      ],
      "text/plain": [
       "   origin  trip_count\n",
       "25   MONT    23784981\n",
       "16   EMBR    23343712\n",
       "33   POWL    20783069\n",
       "8    CIVC    15010620\n",
       "3    24TH     7997998"
      ]
     },
     "execution_count": 22,
     "metadata": {},
     "output_type": "execute_result"
    }
   ],
   "source": [
    "# Yıl boyunca destination istasyonlarından en kalabalık olanı yani tur sayısı en çok olanı.\n",
    "aziz = df.groupby([\"origin\"])[\"trip_count\"].sum().reset_index().sort_values(by = \"trip_count\", ascending = False)\n",
    "aziz[0:5]"
   ]
  },
  {
   "cell_type": "code",
   "execution_count": 23,
   "id": "16de3321",
   "metadata": {},
   "outputs": [
    {
     "data": {
      "image/png": "[encoded data removed]",
      "text/plain": [
       "<Figure size 720x432 with 1 Axes>"
      ]
     },
     "metadata": {},
     "output_type": "display_data"
    }
   ],
   "source": [
    "sns.set(rc={'figure.figsize':(10,6)})\n",
    "plt.tick_params(axis='x', rotation=90)\n",
    "sns.barplot(x=aziz.origin, y=aziz.trip_count);"
   ]
  },
  {
   "cell_type": "code",
   "execution_count": 24,
   "id": "449104a0",
   "metadata": {},
   "outputs": [
    {
     "data": {
      "text/html": [
       "<div>\n",
       "<style scoped>\n",
       "    .dataframe tbody tr th:only-of-type {\n",
       "        vertical-align: middle;\n",
       "    }\n",
       "\n",
       "    .dataframe tbody tr th {\n",
       "        vertical-align: top;\n",
       "    }\n",
       "\n",
       "    .dataframe thead th {\n",
       "        text-align: right;\n",
       "    }\n",
       "</style>\n",
       "<table border=\"1\" class=\"dataframe\">\n",
       "  <thead>\n",
       "    <tr style=\"text-align: right;\">\n",
       "      <th></th>\n",
       "      <th>origin</th>\n",
       "      <th>trip_count</th>\n",
       "    </tr>\n",
       "  </thead>\n",
       "  <tbody>\n",
       "    <tr>\n",
       "      <th>16</th>\n",
       "      <td>EMBR</td>\n",
       "      <td>50539430</td>\n",
       "    </tr>\n",
       "    <tr>\n",
       "      <th>25</th>\n",
       "      <td>MONT</td>\n",
       "      <td>48944697</td>\n",
       "    </tr>\n",
       "    <tr>\n",
       "      <th>33</th>\n",
       "      <td>POWL</td>\n",
       "      <td>39164483</td>\n",
       "    </tr>\n",
       "    <tr>\n",
       "      <th>8</th>\n",
       "      <td>CIVC</td>\n",
       "      <td>28919516</td>\n",
       "    </tr>\n",
       "    <tr>\n",
       "      <th>1</th>\n",
       "      <td>16TH</td>\n",
       "      <td>15812351</td>\n",
       "    </tr>\n",
       "  </tbody>\n",
       "</table>\n",
       "</div>"
      ],
      "text/plain": [
       "   origin  trip_count\n",
       "16   EMBR    50539430\n",
       "25   MONT    48944697\n",
       "33   POWL    39164483\n",
       "8    CIVC    28919516\n",
       "1    16TH    15812351"
      ]
     },
     "execution_count": 24,
     "metadata": {},
     "output_type": "execute_result"
    }
   ],
   "source": [
    "# Yıl boyunca origin ve destination istasyonlarını ayrı ayrı tur sayısını toplayarak en kalabalık istasyonu en çok olanı gösterme\n",
    "aziz = (df.groupby(\"origin\")[\"trip_count\"].sum() + df.groupby(\"destination\")[\"trip_count\"].sum()).reset_index().sort_values(by = \"trip_count\", ascending = False)\n",
    "aziz[0:5]"
   ]
  },
  {
   "cell_type": "code",
   "execution_count": 25,
   "id": "8c90ac7e",
   "metadata": {},
   "outputs": [
    {
     "data": {
      "image/png": "[encoded data removed]",
      "text/plain": [
       "<Figure size 720x432 with 1 Axes>"
      ]
     },
     "metadata": {},
     "output_type": "display_data"
    }
   ],
   "source": [
    "sns.set(rc={'figure.figsize':(10,6)})\n",
    "plt.tick_params(axis='x', rotation=90)\n",
    "sns.barplot(x=aziz.origin, y=aziz.trip_count);"
   ]
  },
  {
   "cell_type": "markdown",
   "id": "d4b0f878",
   "metadata": {},
   "source": [
    "### 2. What is the least popular BART route?"
   ]
  },
  {
   "cell_type": "code",
   "execution_count": 26,
   "id": "630703ee",
   "metadata": {},
   "outputs": [
    {
     "data": {
      "text/html": [
       "<div>\n",
       "<style scoped>\n",
       "    .dataframe tbody tr th:only-of-type {\n",
       "        vertical-align: middle;\n",
       "    }\n",
       "\n",
       "    .dataframe tbody tr th {\n",
       "        vertical-align: top;\n",
       "    }\n",
       "\n",
       "    .dataframe thead th {\n",
       "        text-align: right;\n",
       "    }\n",
       "</style>\n",
       "<table border=\"1\" class=\"dataframe\">\n",
       "  <thead>\n",
       "    <tr style=\"text-align: right;\">\n",
       "      <th></th>\n",
       "      <th>route</th>\n",
       "      <th>trip_count</th>\n",
       "    </tr>\n",
       "  </thead>\n",
       "  <tbody>\n",
       "    <tr>\n",
       "      <th>1956</th>\n",
       "      <td>WARM-MLBR</td>\n",
       "      <td>268</td>\n",
       "    </tr>\n",
       "  </tbody>\n",
       "</table>\n",
       "</div>"
      ],
      "text/plain": [
       "          route  trip_count\n",
       "1956  WARM-MLBR         268"
      ]
     },
     "execution_count": 26,
     "metadata": {},
     "output_type": "execute_result"
    }
   ],
   "source": [
    "# Tüm datadan, bu da bir yıla denk geliyor, rotaların tur sayısının toplamını hesaplayan ve en az tur sayısını gösteren kodu yazma\n",
    "aziz = df.groupby([\"route\"])[\"trip_count\"].sum().reset_index().sort_values(by = \"trip_count\", ascending = True)\n",
    "aziz[aziz.trip_count == aziz.trip_count.min()]"
   ]
  },
  {
   "cell_type": "code",
   "execution_count": 27,
   "id": "dcf329de",
   "metadata": {},
   "outputs": [
    {
     "data": {
      "text/plain": [
       "(2116, 2)"
      ]
     },
     "execution_count": 27,
     "metadata": {},
     "output_type": "execute_result"
    }
   ],
   "source": [
    "aziz.shape"
   ]
  },
  {
   "cell_type": "code",
   "execution_count": 28,
   "id": "19a432f3",
   "metadata": {},
   "outputs": [
    {
     "data": {
      "image/png": "[encoded data removed]",
      "text/plain": [
       "<Figure size 1800x576 with 1 Axes>"
      ]
     },
     "metadata": {},
     "output_type": "display_data"
    }
   ],
   "source": [
    "sns.set(rc={'figure.figsize':(25,8)})\n",
    "sns.set(font_scale=1.5)\n",
    "plt.tick_params(axis='x', rotation=90)\n",
    "sns.barplot(x=aziz[0:15].route, y=aziz[0:15].trip_count);"
   ]
  },
  {
   "cell_type": "markdown",
   "id": "69b77df0",
   "metadata": {},
   "source": [
    "### 3. When is the best time to go to SF from Berkeley if you want to find a seat?"
   ]
  },
  {
   "cell_type": "markdown",
   "id": "a7c56505",
   "metadata": {},
   "source": [
    "Bu soruda SF derken San Francisco International Airport(SFIA) dan Downtown Berkeley(DBRK) e gitmek istediğinizi anlıyorum sorunu ona göre çözmeye çalışacağım"
   ]
  },
  {
   "cell_type": "code",
   "execution_count": 29,
   "id": "42936cbf",
   "metadata": {},
   "outputs": [],
   "source": [
    "aziz = df[df[\"route\"] == \"SFIA-DBRK\"]"
   ]
  },
  {
   "cell_type": "code",
   "execution_count": 30,
   "id": "99aa7075",
   "metadata": {},
   "outputs": [
    {
     "data": {
      "text/html": [
       "<div>\n",
       "<style scoped>\n",
       "    .dataframe tbody tr th:only-of-type {\n",
       "        vertical-align: middle;\n",
       "    }\n",
       "\n",
       "    .dataframe tbody tr th {\n",
       "        vertical-align: top;\n",
       "    }\n",
       "\n",
       "    .dataframe thead th {\n",
       "        text-align: right;\n",
       "    }\n",
       "</style>\n",
       "<table border=\"1\" class=\"dataframe\">\n",
       "  <thead>\n",
       "    <tr style=\"text-align: right;\">\n",
       "      <th></th>\n",
       "      <th>date</th>\n",
       "      <th>week</th>\n",
       "      <th>day</th>\n",
       "      <th>day_name</th>\n",
       "      <th>hour</th>\n",
       "      <th>origin</th>\n",
       "      <th>destination</th>\n",
       "      <th>trip_count</th>\n",
       "      <th>route</th>\n",
       "    </tr>\n",
       "  </thead>\n",
       "  <tbody>\n",
       "    <tr>\n",
       "      <th>2865610</th>\n",
       "      <td>2017-04-18</td>\n",
       "      <td>68</td>\n",
       "      <td>108</td>\n",
       "      <td>Tuesday</td>\n",
       "      <td>6</td>\n",
       "      <td>SFIA</td>\n",
       "      <td>DBRK</td>\n",
       "      <td>1</td>\n",
       "      <td>SFIA-DBRK</td>\n",
       "    </tr>\n",
       "    <tr>\n",
       "      <th>4597969</th>\n",
       "      <td>2017-06-20</td>\n",
       "      <td>77</td>\n",
       "      <td>171</td>\n",
       "      <td>Tuesday</td>\n",
       "      <td>6</td>\n",
       "      <td>SFIA</td>\n",
       "      <td>DBRK</td>\n",
       "      <td>1</td>\n",
       "      <td>SFIA-DBRK</td>\n",
       "    </tr>\n",
       "    <tr>\n",
       "      <th>6689400</th>\n",
       "      <td>2016-09-01</td>\n",
       "      <td>35</td>\n",
       "      <td>245</td>\n",
       "      <td>Thursday</td>\n",
       "      <td>14</td>\n",
       "      <td>SFIA</td>\n",
       "      <td>DBRK</td>\n",
       "      <td>9</td>\n",
       "      <td>SFIA-DBRK</td>\n",
       "    </tr>\n",
       "  </tbody>\n",
       "</table>\n",
       "</div>"
      ],
      "text/plain": [
       "              date  week  day  day_name  hour origin destination  trip_count  \\\n",
       "2865610 2017-04-18    68  108   Tuesday     6   SFIA        DBRK           1   \n",
       "4597969 2017-06-20    77  171   Tuesday     6   SFIA        DBRK           1   \n",
       "6689400 2016-09-01    35  245  Thursday    14   SFIA        DBRK           9   \n",
       "\n",
       "             route  \n",
       "2865610  SFIA-DBRK  \n",
       "4597969  SFIA-DBRK  \n",
       "6689400  SFIA-DBRK  "
      ]
     },
     "execution_count": 30,
     "metadata": {},
     "output_type": "execute_result"
    }
   ],
   "source": [
    "aziz.sample(3)"
   ]
  },
  {
   "cell_type": "code",
   "execution_count": 31,
   "id": "c3f129a2",
   "metadata": {},
   "outputs": [
    {
     "data": {
      "text/html": [
       "<div>\n",
       "<style scoped>\n",
       "    .dataframe tbody tr th:only-of-type {\n",
       "        vertical-align: middle;\n",
       "    }\n",
       "\n",
       "    .dataframe tbody tr th {\n",
       "        vertical-align: top;\n",
       "    }\n",
       "\n",
       "    .dataframe thead th {\n",
       "        text-align: right;\n",
       "    }\n",
       "</style>\n",
       "<table border=\"1\" class=\"dataframe\">\n",
       "  <thead>\n",
       "    <tr style=\"text-align: right;\">\n",
       "      <th></th>\n",
       "      <th>route</th>\n",
       "      <th>day_name</th>\n",
       "      <th>trip_count</th>\n",
       "    </tr>\n",
       "  </thead>\n",
       "  <tbody>\n",
       "    <tr>\n",
       "      <th>6</th>\n",
       "      <td>SFIA-DBRK</td>\n",
       "      <td>Wednesday</td>\n",
       "      <td>16829</td>\n",
       "    </tr>\n",
       "    <tr>\n",
       "      <th>2</th>\n",
       "      <td>SFIA-DBRK</td>\n",
       "      <td>Saturday</td>\n",
       "      <td>17185</td>\n",
       "    </tr>\n",
       "    <tr>\n",
       "      <th>4</th>\n",
       "      <td>SFIA-DBRK</td>\n",
       "      <td>Thursday</td>\n",
       "      <td>17370</td>\n",
       "    </tr>\n",
       "    <tr>\n",
       "      <th>5</th>\n",
       "      <td>SFIA-DBRK</td>\n",
       "      <td>Tuesday</td>\n",
       "      <td>17984</td>\n",
       "    </tr>\n",
       "    <tr>\n",
       "      <th>0</th>\n",
       "      <td>SFIA-DBRK</td>\n",
       "      <td>Friday</td>\n",
       "      <td>18914</td>\n",
       "    </tr>\n",
       "    <tr>\n",
       "      <th>1</th>\n",
       "      <td>SFIA-DBRK</td>\n",
       "      <td>Monday</td>\n",
       "      <td>22958</td>\n",
       "    </tr>\n",
       "    <tr>\n",
       "      <th>3</th>\n",
       "      <td>SFIA-DBRK</td>\n",
       "      <td>Sunday</td>\n",
       "      <td>23601</td>\n",
       "    </tr>\n",
       "  </tbody>\n",
       "</table>\n",
       "</div>"
      ],
      "text/plain": [
       "       route   day_name  trip_count\n",
       "6  SFIA-DBRK  Wednesday       16829\n",
       "2  SFIA-DBRK   Saturday       17185\n",
       "4  SFIA-DBRK   Thursday       17370\n",
       "5  SFIA-DBRK    Tuesday       17984\n",
       "0  SFIA-DBRK     Friday       18914\n",
       "1  SFIA-DBRK     Monday       22958\n",
       "3  SFIA-DBRK     Sunday       23601"
      ]
     },
     "execution_count": 31,
     "metadata": {},
     "output_type": "execute_result"
    }
   ],
   "source": [
    "azizo = aziz.groupby([\"route\",\"day_name\"])[\"trip_count\"].sum().reset_index().sort_values(by = \"trip_count\", ascending = True)\n",
    "azizo"
   ]
  },
  {
   "cell_type": "code",
   "execution_count": 32,
   "id": "824a9bee",
   "metadata": {},
   "outputs": [
    {
     "data": {
      "text/html": [
       "<div>\n",
       "<style scoped>\n",
       "    .dataframe tbody tr th:only-of-type {\n",
       "        vertical-align: middle;\n",
       "    }\n",
       "\n",
       "    .dataframe tbody tr th {\n",
       "        vertical-align: top;\n",
       "    }\n",
       "\n",
       "    .dataframe thead th {\n",
       "        text-align: right;\n",
       "    }\n",
       "</style>\n",
       "<table border=\"1\" class=\"dataframe\">\n",
       "  <thead>\n",
       "    <tr style=\"text-align: right;\">\n",
       "      <th></th>\n",
       "      <th>route</th>\n",
       "      <th>day_name</th>\n",
       "      <th>trip_count</th>\n",
       "    </tr>\n",
       "  </thead>\n",
       "  <tbody>\n",
       "    <tr>\n",
       "      <th>6</th>\n",
       "      <td>SFIA-DBRK</td>\n",
       "      <td>Wednesday</td>\n",
       "      <td>16829</td>\n",
       "    </tr>\n",
       "  </tbody>\n",
       "</table>\n",
       "</div>"
      ],
      "text/plain": [
       "       route   day_name  trip_count\n",
       "6  SFIA-DBRK  Wednesday       16829"
      ]
     },
     "execution_count": 32,
     "metadata": {},
     "output_type": "execute_result"
    }
   ],
   "source": [
    "# Haftanın Çarşamba günü en az kalabalık olan gündür. Çarşamba oturarak seyehat etme şansı olabilir.\n",
    "azizo[azizo.trip_count==azizo.trip_count.min()]"
   ]
  },
  {
   "cell_type": "code",
   "execution_count": 33,
   "id": "0835674a",
   "metadata": {},
   "outputs": [
    {
     "data": {
      "image/png": "[encoded data removed]",
      "text/plain": [
       "<Figure size 576x360 with 1 Axes>"
      ]
     },
     "metadata": {},
     "output_type": "display_data"
    }
   ],
   "source": [
    "sns.set(rc={'figure.figsize':(8,5)})\n",
    "plt.tick_params(axis='x', rotation=90)\n",
    "sns.barplot(x=azizo.day_name, y=azizo.trip_count);"
   ]
  },
  {
   "cell_type": "code",
   "execution_count": 34,
   "id": "cb55e5c1",
   "metadata": {},
   "outputs": [
    {
     "data": {
      "image/png": "[encoded data removed]",
      "text/plain": [
       "<Figure size 576x360 with 1 Axes>"
      ]
     },
     "metadata": {},
     "output_type": "display_data"
    }
   ],
   "source": [
    "# Çarşamba günleri de sabah 5 saatlerinde tur sayısı çok az oluyormuş. \n",
    "# Bu çok az insanın bindiği anlamına gelir ve kişi isterse oturarak seyahat eder.\n",
    "aziz[aziz.day_name == \"Wednesday\"].groupby([\"hour\"])[\"trip_count\"].sum().sort_values(ascending = True).plot.bar();"
   ]
  },
  {
   "cell_type": "code",
   "execution_count": 35,
   "id": "1f5634c4",
   "metadata": {},
   "outputs": [
    {
     "data": {
      "image/png": "[encoded data removed]",
      "text/plain": [
       "<Figure size 576x360 with 1 Axes>"
      ]
     },
     "metadata": {},
     "output_type": "display_data"
    }
   ],
   "source": [
    "# Yılın geneline göre en az sefer sayısı olan saat sabahın 2' sidir.\n",
    "aziz.groupby([\"hour\"])[\"trip_count\"].sum().sort_values(ascending = True).plot.bar();"
   ]
  },
  {
   "cell_type": "code",
   "execution_count": 36,
   "id": "7ff5d415",
   "metadata": {},
   "outputs": [
    {
     "data": {
      "text/html": [
       "<div>\n",
       "<style scoped>\n",
       "    .dataframe tbody tr th:only-of-type {\n",
       "        vertical-align: middle;\n",
       "    }\n",
       "\n",
       "    .dataframe tbody tr th {\n",
       "        vertical-align: top;\n",
       "    }\n",
       "\n",
       "    .dataframe thead th {\n",
       "        text-align: right;\n",
       "    }\n",
       "</style>\n",
       "<table border=\"1\" class=\"dataframe\">\n",
       "  <thead>\n",
       "    <tr style=\"text-align: right;\">\n",
       "      <th></th>\n",
       "      <th>day_name</th>\n",
       "      <th>trip_count</th>\n",
       "    </tr>\n",
       "  </thead>\n",
       "  <tbody>\n",
       "    <tr>\n",
       "      <th>2</th>\n",
       "      <td>Saturday</td>\n",
       "      <td>14503</td>\n",
       "    </tr>\n",
       "  </tbody>\n",
       "</table>\n",
       "</div>"
      ],
      "text/plain": [
       "   day_name  trip_count\n",
       "2  Saturday       14503"
      ]
     },
     "execution_count": 36,
     "metadata": {},
     "output_type": "execute_result"
    }
   ],
   "source": [
    "# Peki gün içinde yani sabah 8 ile akşam 9 arasında oturacak yer bulmak için en uygun saat ve günü nasıl bileceğiz?\n",
    "aziz = df[(df[\"origin\"]==\"SFIA\") & (df[\"destination\"]==\"DBRK\")]\n",
    "aziz = aziz[(aziz[\"hour\"]>=8) & (aziz[\"hour\"]<=21)]\n",
    "azizo = aziz.groupby([\"day_name\"])[\"trip_count\"].sum().reset_index().sort_values(by = \"trip_count\", ascending = True)\n",
    "azizo[azizo.trip_count == azizo.trip_count.min()]"
   ]
  },
  {
   "cell_type": "code",
   "execution_count": 37,
   "id": "c0a0fd62",
   "metadata": {},
   "outputs": [
    {
     "data": {
      "image/png": "[encoded data removed]",
      "text/plain": [
       "<Figure size 576x360 with 1 Axes>"
      ]
     },
     "metadata": {},
     "output_type": "display_data"
    }
   ],
   "source": [
    "aziz.groupby([\"day_name\"])[\"trip_count\"].sum().sort_values(ascending = True).plot.bar();\n",
    "# Cumartesi günü sefer sayısı en az olan günlerdendir.Çarşamba günü sefer sayısı Cumartesi günü sefer sayısına çok yakın."
   ]
  },
  {
   "cell_type": "code",
   "execution_count": 38,
   "id": "0d776845",
   "metadata": {},
   "outputs": [
    {
     "data": {
      "image/png": "[encoded data removed]",
      "text/plain": [
       "<Figure size 576x360 with 1 Axes>"
      ]
     },
     "metadata": {},
     "output_type": "display_data"
    }
   ],
   "source": [
    "aziz.groupby([\"hour\"])[\"trip_count\"].sum().sort_values(ascending = True).plot.bar();"
   ]
  },
  {
   "cell_type": "markdown",
   "id": "12c0a6c1",
   "metadata": {},
   "source": [
    "### 4. Which day of the week is the busiest?"
   ]
  },
  {
   "cell_type": "code",
   "execution_count": 39,
   "id": "e7115ddb",
   "metadata": {},
   "outputs": [
    {
     "data": {
      "text/html": [
       "<div>\n",
       "<style scoped>\n",
       "    .dataframe tbody tr th:only-of-type {\n",
       "        vertical-align: middle;\n",
       "    }\n",
       "\n",
       "    .dataframe tbody tr th {\n",
       "        vertical-align: top;\n",
       "    }\n",
       "\n",
       "    .dataframe thead th {\n",
       "        text-align: right;\n",
       "    }\n",
       "</style>\n",
       "<table border=\"1\" class=\"dataframe\">\n",
       "  <thead>\n",
       "    <tr style=\"text-align: right;\">\n",
       "      <th></th>\n",
       "      <th>day_name</th>\n",
       "      <th>trip_count</th>\n",
       "    </tr>\n",
       "  </thead>\n",
       "  <tbody>\n",
       "    <tr>\n",
       "      <th>6</th>\n",
       "      <td>Wednesday</td>\n",
       "      <td>45185430</td>\n",
       "    </tr>\n",
       "    <tr>\n",
       "      <th>4</th>\n",
       "      <td>Thursday</td>\n",
       "      <td>44821062</td>\n",
       "    </tr>\n",
       "    <tr>\n",
       "      <th>5</th>\n",
       "      <td>Tuesday</td>\n",
       "      <td>44458845</td>\n",
       "    </tr>\n",
       "    <tr>\n",
       "      <th>0</th>\n",
       "      <td>Friday</td>\n",
       "      <td>42191061</td>\n",
       "    </tr>\n",
       "    <tr>\n",
       "      <th>1</th>\n",
       "      <td>Monday</td>\n",
       "      <td>39825610</td>\n",
       "    </tr>\n",
       "    <tr>\n",
       "      <th>2</th>\n",
       "      <td>Saturday</td>\n",
       "      <td>20055208</td>\n",
       "    </tr>\n",
       "    <tr>\n",
       "      <th>3</th>\n",
       "      <td>Sunday</td>\n",
       "      <td>14488985</td>\n",
       "    </tr>\n",
       "  </tbody>\n",
       "</table>\n",
       "</div>"
      ],
      "text/plain": [
       "    day_name  trip_count\n",
       "6  Wednesday    45185430\n",
       "4   Thursday    44821062\n",
       "5    Tuesday    44458845\n",
       "0     Friday    42191061\n",
       "1     Monday    39825610\n",
       "2   Saturday    20055208\n",
       "3     Sunday    14488985"
      ]
     },
     "execution_count": 39,
     "metadata": {},
     "output_type": "execute_result"
    }
   ],
   "source": [
    "aziz = df.groupby([\"day_name\"])[\"trip_count\"].sum().reset_index().sort_values(by = \"trip_count\", ascending = False)\n",
    "aziz"
   ]
  },
  {
   "cell_type": "code",
   "execution_count": 40,
   "id": "54be7e5f",
   "metadata": {},
   "outputs": [
    {
     "data": {
      "text/html": [
       "<div>\n",
       "<style scoped>\n",
       "    .dataframe tbody tr th:only-of-type {\n",
       "        vertical-align: middle;\n",
       "    }\n",
       "\n",
       "    .dataframe tbody tr th {\n",
       "        vertical-align: top;\n",
       "    }\n",
       "\n",
       "    .dataframe thead th {\n",
       "        text-align: right;\n",
       "    }\n",
       "</style>\n",
       "<table border=\"1\" class=\"dataframe\">\n",
       "  <thead>\n",
       "    <tr style=\"text-align: right;\">\n",
       "      <th></th>\n",
       "      <th>day_name</th>\n",
       "      <th>trip_count</th>\n",
       "    </tr>\n",
       "  </thead>\n",
       "  <tbody>\n",
       "    <tr>\n",
       "      <th>6</th>\n",
       "      <td>Wednesday</td>\n",
       "      <td>45185430</td>\n",
       "    </tr>\n",
       "  </tbody>\n",
       "</table>\n",
       "</div>"
      ],
      "text/plain": [
       "    day_name  trip_count\n",
       "6  Wednesday    45185430"
      ]
     },
     "execution_count": 40,
     "metadata": {},
     "output_type": "execute_result"
    }
   ],
   "source": [
    "aziz[aziz.trip_count== aziz.trip_count.max()]\n",
    "# Haftanın hangi gününün en yoğun olduğu gösterilmekte"
   ]
  },
  {
   "cell_type": "code",
   "execution_count": 41,
   "id": "ee4e2ae9",
   "metadata": {},
   "outputs": [
    {
     "data": {
      "image/png": "[encoded data removed]",
      "text/plain": [
       "<Figure size 432x288 with 1 Axes>"
      ]
     },
     "metadata": {},
     "output_type": "display_data"
    }
   ],
   "source": [
    "sns.set(rc={'figure.figsize':(6,4)})\n",
    "sns.barplot(x = aziz.day_name, y=aziz.trip_count);"
   ]
  },
  {
   "cell_type": "markdown",
   "id": "0872f7b2",
   "metadata": {},
   "source": [
    "### 5. How many people take the BART late at night?"
   ]
  },
  {
   "cell_type": "markdown",
   "id": "317f67ad",
   "metadata": {},
   "source": [
    "(Late at night: Midnight-6 a.m.)"
   ]
  },
  {
   "cell_type": "markdown",
   "id": "65fc5e85",
   "metadata": {},
   "source": [
    "Kaç insanın old. ile ilgili veri yok elimde. Ama saat 6 daki toplam tur sayısı bulunabilir."
   ]
  },
  {
   "cell_type": "code",
   "execution_count": 42,
   "id": "48c1a9b7",
   "metadata": {},
   "outputs": [
    {
     "data": {
      "text/plain": [
       "7574290"
      ]
     },
     "execution_count": 42,
     "metadata": {},
     "output_type": "execute_result"
    }
   ],
   "source": [
    "# Saat 6(late at night)' da toplam tur sayısı: \n",
    "df[df[\"hour\"]==6][\"trip_count\"].sum()"
   ]
  },
  {
   "cell_type": "code",
   "execution_count": 43,
   "id": "ecc71f3f",
   "metadata": {},
   "outputs": [
    {
     "data": {
      "text/html": [
       "<div>\n",
       "<style scoped>\n",
       "    .dataframe tbody tr th:only-of-type {\n",
       "        vertical-align: middle;\n",
       "    }\n",
       "\n",
       "    .dataframe tbody tr th {\n",
       "        vertical-align: top;\n",
       "    }\n",
       "\n",
       "    .dataframe thead th {\n",
       "        text-align: right;\n",
       "    }\n",
       "</style>\n",
       "<table border=\"1\" class=\"dataframe\">\n",
       "  <thead>\n",
       "    <tr style=\"text-align: right;\">\n",
       "      <th></th>\n",
       "      <th>day_name</th>\n",
       "      <th>trip_count</th>\n",
       "    </tr>\n",
       "  </thead>\n",
       "  <tbody>\n",
       "    <tr>\n",
       "      <th>6</th>\n",
       "      <td>Wednesday</td>\n",
       "      <td>1577536</td>\n",
       "    </tr>\n",
       "    <tr>\n",
       "      <th>5</th>\n",
       "      <td>Tuesday</td>\n",
       "      <td>1564492</td>\n",
       "    </tr>\n",
       "    <tr>\n",
       "      <th>4</th>\n",
       "      <td>Thursday</td>\n",
       "      <td>1528386</td>\n",
       "    </tr>\n",
       "    <tr>\n",
       "      <th>0</th>\n",
       "      <td>Friday</td>\n",
       "      <td>1352963</td>\n",
       "    </tr>\n",
       "    <tr>\n",
       "      <th>1</th>\n",
       "      <td>Monday</td>\n",
       "      <td>1344586</td>\n",
       "    </tr>\n",
       "    <tr>\n",
       "      <th>2</th>\n",
       "      <td>Saturday</td>\n",
       "      <td>203188</td>\n",
       "    </tr>\n",
       "    <tr>\n",
       "      <th>3</th>\n",
       "      <td>Sunday</td>\n",
       "      <td>3139</td>\n",
       "    </tr>\n",
       "  </tbody>\n",
       "</table>\n",
       "</div>"
      ],
      "text/plain": [
       "    day_name  trip_count\n",
       "6  Wednesday     1577536\n",
       "5    Tuesday     1564492\n",
       "4   Thursday     1528386\n",
       "0     Friday     1352963\n",
       "1     Monday     1344586\n",
       "2   Saturday      203188\n",
       "3     Sunday        3139"
      ]
     },
     "execution_count": 43,
     "metadata": {},
     "output_type": "execute_result"
    }
   ],
   "source": [
    "# Haftanın günlerine göre saat 6 da toplam tur sayısı\n",
    "aziz= df[df[\"hour\"]==6].groupby(\"day_name\")[\"trip_count\"].sum().reset_index().sort_values(by = \"trip_count\", ascending = False)\n",
    "aziz"
   ]
  },
  {
   "cell_type": "code",
   "execution_count": 44,
   "id": "f9920f7c",
   "metadata": {},
   "outputs": [
    {
     "data": {
      "image/png": "[encoded data removed]",
      "text/plain": [
       "<Figure size 432x288 with 1 Axes>"
      ]
     },
     "metadata": {},
     "output_type": "display_data"
    }
   ],
   "source": [
    "sns.set(rc={'figure.figsize':(6,4)})\n",
    "sns.barplot(x=aziz.day_name, y=aziz.trip_count);"
   ]
  },
  {
   "cell_type": "markdown",
   "id": "211d7d4a",
   "metadata": {},
   "source": [
    "# Data Science Questions"
   ]
  },
  {
   "cell_type": "code",
   "execution_count": 45,
   "id": "36dfcee4",
   "metadata": {},
   "outputs": [],
   "source": [
    "df_station = pd.read_csv(\"station_info.csv\")"
   ]
  },
  {
   "cell_type": "code",
   "execution_count": 46,
   "id": "8e6943ef",
   "metadata": {},
   "outputs": [
    {
     "data": {
      "text/html": [
       "<div>\n",
       "<style scoped>\n",
       "    .dataframe tbody tr th:only-of-type {\n",
       "        vertical-align: middle;\n",
       "    }\n",
       "\n",
       "    .dataframe tbody tr th {\n",
       "        vertical-align: top;\n",
       "    }\n",
       "\n",
       "    .dataframe thead th {\n",
       "        text-align: right;\n",
       "    }\n",
       "</style>\n",
       "<table border=\"1\" class=\"dataframe\">\n",
       "  <thead>\n",
       "    <tr style=\"text-align: right;\">\n",
       "      <th></th>\n",
       "      <th>Abbreviation</th>\n",
       "      <th>Description</th>\n",
       "      <th>Location</th>\n",
       "      <th>Name</th>\n",
       "    </tr>\n",
       "  </thead>\n",
       "  <tbody>\n",
       "    <tr>\n",
       "      <th>0</th>\n",
       "      <td>12TH</td>\n",
       "      <td>1245 Broadway, Oakland CA 94612&lt;br /&gt;12th St. ...</td>\n",
       "      <td>-122.271450,37.803768,0</td>\n",
       "      <td>12th St. Oakland City Center (12TH)</td>\n",
       "    </tr>\n",
       "    <tr>\n",
       "      <th>1</th>\n",
       "      <td>16TH</td>\n",
       "      <td>2000 Mission Street, San Francisco CA 94110&lt;br...</td>\n",
       "      <td>-122.419694,37.765062,0</td>\n",
       "      <td>16th St. Mission (16TH)</td>\n",
       "    </tr>\n",
       "    <tr>\n",
       "      <th>2</th>\n",
       "      <td>19TH</td>\n",
       "      <td>1900 Broadway, Oakland CA 94612&lt;br /&gt;19th Stre...</td>\n",
       "      <td>-122.268602,37.808350,0</td>\n",
       "      <td>19th St. Oakland (19TH)</td>\n",
       "    </tr>\n",
       "    <tr>\n",
       "      <th>3</th>\n",
       "      <td>24TH</td>\n",
       "      <td>2800 Mission Street, San Francisco CA 94110&lt;br...</td>\n",
       "      <td>-122.418143,37.752470,0</td>\n",
       "      <td>24th St. Mission (24TH)</td>\n",
       "    </tr>\n",
       "    <tr>\n",
       "      <th>4</th>\n",
       "      <td>ASHB</td>\n",
       "      <td>3100 Adeline Street, Berkeley CA 94703&lt;br /&gt;As...</td>\n",
       "      <td>-122.270062,37.852803,0</td>\n",
       "      <td>Ashby (ASHB)</td>\n",
       "    </tr>\n",
       "  </tbody>\n",
       "</table>\n",
       "</div>"
      ],
      "text/plain": [
       "  Abbreviation                                        Description  \\\n",
       "0         12TH  1245 Broadway, Oakland CA 94612<br />12th St. ...   \n",
       "1         16TH  2000 Mission Street, San Francisco CA 94110<br...   \n",
       "2         19TH  1900 Broadway, Oakland CA 94612<br />19th Stre...   \n",
       "3         24TH  2800 Mission Street, San Francisco CA 94110<br...   \n",
       "4         ASHB  3100 Adeline Street, Berkeley CA 94703<br />As...   \n",
       "\n",
       "                  Location                                 Name  \n",
       "0  -122.271450,37.803768,0  12th St. Oakland City Center (12TH)  \n",
       "1  -122.419694,37.765062,0              16th St. Mission (16TH)  \n",
       "2  -122.268602,37.808350,0              19th St. Oakland (19TH)  \n",
       "3  -122.418143,37.752470,0              24th St. Mission (24TH)  \n",
       "4  -122.270062,37.852803,0                         Ashby (ASHB)  "
      ]
     },
     "execution_count": 46,
     "metadata": {},
     "output_type": "execute_result"
    }
   ],
   "source": [
    "df_station.head()"
   ]
  },
  {
   "cell_type": "markdown",
   "id": "16fbad41",
   "metadata": {},
   "source": [
    "### Question A: Compute the straight line distance between every station"
   ]
  },
  {
   "cell_type": "code",
   "execution_count": 47,
   "id": "2fa82c9e",
   "metadata": {},
   "outputs": [
    {
     "data": {
      "text/html": [
       "<div>\n",
       "<style scoped>\n",
       "    .dataframe tbody tr th:only-of-type {\n",
       "        vertical-align: middle;\n",
       "    }\n",
       "\n",
       "    .dataframe tbody tr th {\n",
       "        vertical-align: top;\n",
       "    }\n",
       "\n",
       "    .dataframe thead th {\n",
       "        text-align: right;\n",
       "    }\n",
       "</style>\n",
       "<table border=\"1\" class=\"dataframe\">\n",
       "  <thead>\n",
       "    <tr style=\"text-align: right;\">\n",
       "      <th></th>\n",
       "      <th>Abbreviation</th>\n",
       "      <th>Description</th>\n",
       "      <th>Location</th>\n",
       "      <th>Name</th>\n",
       "      <th>boylam</th>\n",
       "      <th>enlem</th>\n",
       "    </tr>\n",
       "  </thead>\n",
       "  <tbody>\n",
       "    <tr>\n",
       "      <th>0</th>\n",
       "      <td>12TH</td>\n",
       "      <td>1245 Broadway, Oakland CA 94612&lt;br /&gt;12th St. ...</td>\n",
       "      <td>-122.271450,37.803768,0</td>\n",
       "      <td>12th St. Oakland City Center (12TH)</td>\n",
       "      <td>-122.271450</td>\n",
       "      <td>37.803768</td>\n",
       "    </tr>\n",
       "    <tr>\n",
       "      <th>1</th>\n",
       "      <td>16TH</td>\n",
       "      <td>2000 Mission Street, San Francisco CA 94110&lt;br...</td>\n",
       "      <td>-122.419694,37.765062,0</td>\n",
       "      <td>16th St. Mission (16TH)</td>\n",
       "      <td>-122.419694</td>\n",
       "      <td>37.765062</td>\n",
       "    </tr>\n",
       "    <tr>\n",
       "      <th>2</th>\n",
       "      <td>19TH</td>\n",
       "      <td>1900 Broadway, Oakland CA 94612&lt;br /&gt;19th Stre...</td>\n",
       "      <td>-122.268602,37.808350,0</td>\n",
       "      <td>19th St. Oakland (19TH)</td>\n",
       "      <td>-122.268602</td>\n",
       "      <td>37.808350</td>\n",
       "    </tr>\n",
       "    <tr>\n",
       "      <th>3</th>\n",
       "      <td>24TH</td>\n",
       "      <td>2800 Mission Street, San Francisco CA 94110&lt;br...</td>\n",
       "      <td>-122.418143,37.752470,0</td>\n",
       "      <td>24th St. Mission (24TH)</td>\n",
       "      <td>-122.418143</td>\n",
       "      <td>37.752470</td>\n",
       "    </tr>\n",
       "    <tr>\n",
       "      <th>4</th>\n",
       "      <td>ASHB</td>\n",
       "      <td>3100 Adeline Street, Berkeley CA 94703&lt;br /&gt;As...</td>\n",
       "      <td>-122.270062,37.852803,0</td>\n",
       "      <td>Ashby (ASHB)</td>\n",
       "      <td>-122.270062</td>\n",
       "      <td>37.852803</td>\n",
       "    </tr>\n",
       "  </tbody>\n",
       "</table>\n",
       "</div>"
      ],
      "text/plain": [
       "  Abbreviation                                        Description  \\\n",
       "0         12TH  1245 Broadway, Oakland CA 94612<br />12th St. ...   \n",
       "1         16TH  2000 Mission Street, San Francisco CA 94110<br...   \n",
       "2         19TH  1900 Broadway, Oakland CA 94612<br />19th Stre...   \n",
       "3         24TH  2800 Mission Street, San Francisco CA 94110<br...   \n",
       "4         ASHB  3100 Adeline Street, Berkeley CA 94703<br />As...   \n",
       "\n",
       "                  Location                                 Name      boylam  \\\n",
       "0  -122.271450,37.803768,0  12th St. Oakland City Center (12TH) -122.271450   \n",
       "1  -122.419694,37.765062,0              16th St. Mission (16TH) -122.419694   \n",
       "2  -122.268602,37.808350,0              19th St. Oakland (19TH) -122.268602   \n",
       "3  -122.418143,37.752470,0              24th St. Mission (24TH) -122.418143   \n",
       "4  -122.270062,37.852803,0                         Ashby (ASHB) -122.270062   \n",
       "\n",
       "       enlem  \n",
       "0  37.803768  \n",
       "1  37.765062  \n",
       "2  37.808350  \n",
       "3  37.752470  \n",
       "4  37.852803  "
      ]
     },
     "execution_count": 47,
     "metadata": {},
     "output_type": "execute_result"
    }
   ],
   "source": [
    "# Location içinde virgülle belirtilen enlem ve boylam verileri ayrı bir sütunda gösterme\n",
    "df_station['boylam'] = df_station.Location.apply(lambda x: float(x.split(',')[0]))\n",
    "df_station['enlem'] = df_station.Location.apply(lambda x: float(x.split(',')[1]))\n",
    "df_station.head()"
   ]
  },
  {
   "cell_type": "code",
   "execution_count": 48,
   "id": "f6578115",
   "metadata": {},
   "outputs": [
    {
     "data": {
      "text/plain": [
       "Index(['abbreviation', 'description', 'location', 'name', 'boylam', 'enlem'], dtype='object')"
      ]
     },
     "execution_count": 48,
     "metadata": {},
     "output_type": "execute_result"
    }
   ],
   "source": [
    "# Sütun adlarını küçük harfe çevirme\n",
    "df_station.columns = [x.lower() for x in df_station.columns]\n",
    "df_station.columns"
   ]
  },
  {
   "cell_type": "code",
   "execution_count": 49,
   "id": "34a73728",
   "metadata": {},
   "outputs": [
    {
     "data": {
      "text/html": [
       "<div>\n",
       "<style scoped>\n",
       "    .dataframe tbody tr th:only-of-type {\n",
       "        vertical-align: middle;\n",
       "    }\n",
       "\n",
       "    .dataframe tbody tr th {\n",
       "        vertical-align: top;\n",
       "    }\n",
       "\n",
       "    .dataframe thead th {\n",
       "        text-align: right;\n",
       "    }\n",
       "</style>\n",
       "<table border=\"1\" class=\"dataframe\">\n",
       "  <thead>\n",
       "    <tr style=\"text-align: right;\">\n",
       "      <th></th>\n",
       "      <th>abbr</th>\n",
       "      <th>desc</th>\n",
       "      <th>loc</th>\n",
       "      <th>name</th>\n",
       "      <th>boylam</th>\n",
       "      <th>enlem</th>\n",
       "    </tr>\n",
       "  </thead>\n",
       "  <tbody>\n",
       "    <tr>\n",
       "      <th>0</th>\n",
       "      <td>12TH</td>\n",
       "      <td>1245 Broadway, Oakland CA 94612&lt;br /&gt;12th St. ...</td>\n",
       "      <td>-122.271450,37.803768,0</td>\n",
       "      <td>12th St. Oakland City Center (12TH)</td>\n",
       "      <td>-122.271450</td>\n",
       "      <td>37.803768</td>\n",
       "    </tr>\n",
       "    <tr>\n",
       "      <th>1</th>\n",
       "      <td>16TH</td>\n",
       "      <td>2000 Mission Street, San Francisco CA 94110&lt;br...</td>\n",
       "      <td>-122.419694,37.765062,0</td>\n",
       "      <td>16th St. Mission (16TH)</td>\n",
       "      <td>-122.419694</td>\n",
       "      <td>37.765062</td>\n",
       "    </tr>\n",
       "    <tr>\n",
       "      <th>2</th>\n",
       "      <td>19TH</td>\n",
       "      <td>1900 Broadway, Oakland CA 94612&lt;br /&gt;19th Stre...</td>\n",
       "      <td>-122.268602,37.808350,0</td>\n",
       "      <td>19th St. Oakland (19TH)</td>\n",
       "      <td>-122.268602</td>\n",
       "      <td>37.808350</td>\n",
       "    </tr>\n",
       "    <tr>\n",
       "      <th>3</th>\n",
       "      <td>24TH</td>\n",
       "      <td>2800 Mission Street, San Francisco CA 94110&lt;br...</td>\n",
       "      <td>-122.418143,37.752470,0</td>\n",
       "      <td>24th St. Mission (24TH)</td>\n",
       "      <td>-122.418143</td>\n",
       "      <td>37.752470</td>\n",
       "    </tr>\n",
       "    <tr>\n",
       "      <th>4</th>\n",
       "      <td>ASHB</td>\n",
       "      <td>3100 Adeline Street, Berkeley CA 94703&lt;br /&gt;As...</td>\n",
       "      <td>-122.270062,37.852803,0</td>\n",
       "      <td>Ashby (ASHB)</td>\n",
       "      <td>-122.270062</td>\n",
       "      <td>37.852803</td>\n",
       "    </tr>\n",
       "  </tbody>\n",
       "</table>\n",
       "</div>"
      ],
      "text/plain": [
       "   abbr                                               desc  \\\n",
       "0  12TH  1245 Broadway, Oakland CA 94612<br />12th St. ...   \n",
       "1  16TH  2000 Mission Street, San Francisco CA 94110<br...   \n",
       "2  19TH  1900 Broadway, Oakland CA 94612<br />19th Stre...   \n",
       "3  24TH  2800 Mission Street, San Francisco CA 94110<br...   \n",
       "4  ASHB  3100 Adeline Street, Berkeley CA 94703<br />As...   \n",
       "\n",
       "                       loc                                 name      boylam  \\\n",
       "0  -122.271450,37.803768,0  12th St. Oakland City Center (12TH) -122.271450   \n",
       "1  -122.419694,37.765062,0              16th St. Mission (16TH) -122.419694   \n",
       "2  -122.268602,37.808350,0              19th St. Oakland (19TH) -122.268602   \n",
       "3  -122.418143,37.752470,0              24th St. Mission (24TH) -122.418143   \n",
       "4  -122.270062,37.852803,0                         Ashby (ASHB) -122.270062   \n",
       "\n",
       "       enlem  \n",
       "0  37.803768  \n",
       "1  37.765062  \n",
       "2  37.808350  \n",
       "3  37.752470  \n",
       "4  37.852803  "
      ]
     },
     "execution_count": 49,
     "metadata": {},
     "output_type": "execute_result"
    }
   ],
   "source": [
    "# boşluklu olan sütunları kolay yazmak için kısaltma veya birleştirme işlemi\n",
    "df_station = df_station.rename(columns={\"abbreviation\": \"abbr\",\"description\": \"desc\",\"location\": \"loc\"})\n",
    "df_station.head()"
   ]
  },
  {
   "cell_type": "code",
   "execution_count": 50,
   "id": "1af62fd5",
   "metadata": {},
   "outputs": [
    {
     "data": {
      "text/plain": [
       "(46, 6)"
      ]
     },
     "execution_count": 50,
     "metadata": {},
     "output_type": "execute_result"
    }
   ],
   "source": [
    "df_station.shape"
   ]
  },
  {
   "cell_type": "code",
   "execution_count": 51,
   "id": "b76f959f",
   "metadata": {},
   "outputs": [],
   "source": [
    "dfstat = df_station[[\"name\", \"abbr\",\"enlem\",\"boylam\"]]"
   ]
  },
  {
   "cell_type": "code",
   "execution_count": 52,
   "id": "645f9636",
   "metadata": {},
   "outputs": [],
   "source": [
    "# İstasyonların enlem ve boylamlarını çeken fonksiyonlar\n",
    "def x1_boylam(origin):\n",
    "    aziz = list(dfstat[dfstat.abbr == origin][\"boylam\"])[0]\n",
    "    return aziz\n",
    "def y1_enlem(origin):\n",
    "    aziz = list(dfstat[dfstat.abbr == origin][\"enlem\"])[0]\n",
    "    return aziz\n",
    "def x2_boylam(destination):\n",
    "    aziz = list(dfstat[dfstat.abbr == destination][\"boylam\"])[0]\n",
    "    return aziz\n",
    "def y2_enlem(destination):\n",
    "    aziz = list(dfstat[dfstat.abbr == destination][\"enlem\"])[0]\n",
    "    return aziz"
   ]
  },
  {
   "cell_type": "code",
   "execution_count": 53,
   "id": "8f9467e0",
   "metadata": {},
   "outputs": [],
   "source": [
    "i=100"
   ]
  },
  {
   "cell_type": "code",
   "execution_count": 54,
   "id": "9e8edadb",
   "metadata": {},
   "outputs": [],
   "source": [
    "# i=len(df) yapılırsa her istasyon için kuşbakışı doğrusal hat mesafesi hesaplanabilir.\n",
    "# Veri uzun olduğundan şimdilik i=100 olarak atanmıştır.\n",
    "df[\"x1\"] = df[\"origin\"][0:i].apply(x1_boylam)\n",
    "df[\"y1\"] = df[\"origin\"][0:i].apply(y1_enlem)\n",
    "df[\"y1\"] = df[\"origin\"][0:i].apply(y1_enlem)\n",
    "df[\"x2\"] = df[\"destination\"][0:i].apply(x2_boylam)\n",
    "df[\"y2\"] = df[\"destination\"][0:i].apply(y2_enlem)\n",
    "df[\"straight_dist\"] = ((df[\"x1\"]-df[\"y1\"])**2 + (df[\"x2\"]-df[\"y2\"])**2)**(1/2)\n",
    "df.drop([\"x1\",\"x2\",\"y1\",\"y2\"], axis=1, inplace=True)"
   ]
  },
  {
   "cell_type": "code",
   "execution_count": 55,
   "id": "1173c886",
   "metadata": {},
   "outputs": [
    {
     "data": {
      "text/html": [
       "<div>\n",
       "<style scoped>\n",
       "    .dataframe tbody tr th:only-of-type {\n",
       "        vertical-align: middle;\n",
       "    }\n",
       "\n",
       "    .dataframe tbody tr th {\n",
       "        vertical-align: top;\n",
       "    }\n",
       "\n",
       "    .dataframe thead th {\n",
       "        text-align: right;\n",
       "    }\n",
       "</style>\n",
       "<table border=\"1\" class=\"dataframe\">\n",
       "  <thead>\n",
       "    <tr style=\"text-align: right;\">\n",
       "      <th></th>\n",
       "      <th>date</th>\n",
       "      <th>week</th>\n",
       "      <th>day</th>\n",
       "      <th>day_name</th>\n",
       "      <th>hour</th>\n",
       "      <th>origin</th>\n",
       "      <th>destination</th>\n",
       "      <th>trip_count</th>\n",
       "      <th>route</th>\n",
       "      <th>straight_dist</th>\n",
       "    </tr>\n",
       "  </thead>\n",
       "  <tbody>\n",
       "    <tr>\n",
       "      <th>0</th>\n",
       "      <td>2016-01-01</td>\n",
       "      <td>1</td>\n",
       "      <td>1</td>\n",
       "      <td>Friday</td>\n",
       "      <td>0</td>\n",
       "      <td>12TH</td>\n",
       "      <td>12TH</td>\n",
       "      <td>1</td>\n",
       "      <td>12TH-12TH</td>\n",
       "      <td>226.380544</td>\n",
       "    </tr>\n",
       "    <tr>\n",
       "      <th>1</th>\n",
       "      <td>2016-01-01</td>\n",
       "      <td>1</td>\n",
       "      <td>1</td>\n",
       "      <td>Friday</td>\n",
       "      <td>0</td>\n",
       "      <td>12TH</td>\n",
       "      <td>16TH</td>\n",
       "      <td>1</td>\n",
       "      <td>12TH-16TH</td>\n",
       "      <td>226.458013</td>\n",
       "    </tr>\n",
       "    <tr>\n",
       "      <th>2</th>\n",
       "      <td>2016-01-01</td>\n",
       "      <td>1</td>\n",
       "      <td>1</td>\n",
       "      <td>Friday</td>\n",
       "      <td>0</td>\n",
       "      <td>12TH</td>\n",
       "      <td>24TH</td>\n",
       "      <td>4</td>\n",
       "      <td>12TH-24TH</td>\n",
       "      <td>226.448009</td>\n",
       "    </tr>\n",
       "    <tr>\n",
       "      <th>3</th>\n",
       "      <td>2016-01-01</td>\n",
       "      <td>1</td>\n",
       "      <td>1</td>\n",
       "      <td>Friday</td>\n",
       "      <td>0</td>\n",
       "      <td>12TH</td>\n",
       "      <td>ASHB</td>\n",
       "      <td>4</td>\n",
       "      <td>12TH-ASHB</td>\n",
       "      <td>226.414238</td>\n",
       "    </tr>\n",
       "    <tr>\n",
       "      <th>4</th>\n",
       "      <td>2016-01-01</td>\n",
       "      <td>1</td>\n",
       "      <td>1</td>\n",
       "      <td>Friday</td>\n",
       "      <td>0</td>\n",
       "      <td>12TH</td>\n",
       "      <td>BALB</td>\n",
       "      <td>2</td>\n",
       "      <td>12TH-BALB</td>\n",
       "      <td>226.446932</td>\n",
       "    </tr>\n",
       "  </tbody>\n",
       "</table>\n",
       "</div>"
      ],
      "text/plain": [
       "        date  week  day day_name  hour origin destination  trip_count  \\\n",
       "0 2016-01-01     1    1   Friday     0   12TH        12TH           1   \n",
       "1 2016-01-01     1    1   Friday     0   12TH        16TH           1   \n",
       "2 2016-01-01     1    1   Friday     0   12TH        24TH           4   \n",
       "3 2016-01-01     1    1   Friday     0   12TH        ASHB           4   \n",
       "4 2016-01-01     1    1   Friday     0   12TH        BALB           2   \n",
       "\n",
       "       route  straight_dist  \n",
       "0  12TH-12TH     226.380544  \n",
       "1  12TH-16TH     226.458013  \n",
       "2  12TH-24TH     226.448009  \n",
       "3  12TH-ASHB     226.414238  \n",
       "4  12TH-BALB     226.446932  "
      ]
     },
     "execution_count": 55,
     "metadata": {},
     "output_type": "execute_result"
    }
   ],
   "source": [
    "df.head(5)"
   ]
  },
  {
   "cell_type": "markdown",
   "id": "2b36008a",
   "metadata": {},
   "source": [
    "### Question B: Build a model that can predict the number of people commuting to work by Bart between any 2 stations:"
   ]
  },
  {
   "cell_type": "code",
   "execution_count": 56,
   "id": "570db2ec",
   "metadata": {},
   "outputs": [
    {
     "data": {
      "text/html": [
       "<div>\n",
       "<style scoped>\n",
       "    .dataframe tbody tr th:only-of-type {\n",
       "        vertical-align: middle;\n",
       "    }\n",
       "\n",
       "    .dataframe tbody tr th {\n",
       "        vertical-align: top;\n",
       "    }\n",
       "\n",
       "    .dataframe thead th {\n",
       "        text-align: right;\n",
       "    }\n",
       "</style>\n",
       "<table border=\"1\" class=\"dataframe\">\n",
       "  <thead>\n",
       "    <tr style=\"text-align: right;\">\n",
       "      <th></th>\n",
       "      <th>date</th>\n",
       "      <th>week</th>\n",
       "      <th>day</th>\n",
       "      <th>day_name</th>\n",
       "      <th>hour</th>\n",
       "      <th>origin</th>\n",
       "      <th>destination</th>\n",
       "      <th>trip_count</th>\n",
       "      <th>route</th>\n",
       "      <th>straight_dist</th>\n",
       "    </tr>\n",
       "  </thead>\n",
       "  <tbody>\n",
       "    <tr>\n",
       "      <th>0</th>\n",
       "      <td>2016-01-01</td>\n",
       "      <td>1</td>\n",
       "      <td>1</td>\n",
       "      <td>Friday</td>\n",
       "      <td>0</td>\n",
       "      <td>12TH</td>\n",
       "      <td>12TH</td>\n",
       "      <td>1</td>\n",
       "      <td>12TH-12TH</td>\n",
       "      <td>226.380544</td>\n",
       "    </tr>\n",
       "    <tr>\n",
       "      <th>1</th>\n",
       "      <td>2016-01-01</td>\n",
       "      <td>1</td>\n",
       "      <td>1</td>\n",
       "      <td>Friday</td>\n",
       "      <td>0</td>\n",
       "      <td>12TH</td>\n",
       "      <td>16TH</td>\n",
       "      <td>1</td>\n",
       "      <td>12TH-16TH</td>\n",
       "      <td>226.458013</td>\n",
       "    </tr>\n",
       "  </tbody>\n",
       "</table>\n",
       "</div>"
      ],
      "text/plain": [
       "        date  week  day day_name  hour origin destination  trip_count  \\\n",
       "0 2016-01-01     1    1   Friday     0   12TH        12TH           1   \n",
       "1 2016-01-01     1    1   Friday     0   12TH        16TH           1   \n",
       "\n",
       "       route  straight_dist  \n",
       "0  12TH-12TH     226.380544  \n",
       "1  12TH-16TH     226.458013  "
      ]
     },
     "execution_count": 56,
     "metadata": {},
     "output_type": "execute_result"
    }
   ],
   "source": [
    "df.head(2)"
   ]
  },
  {
   "cell_type": "code",
   "execution_count": 57,
   "id": "7b1d043d",
   "metadata": {},
   "outputs": [
    {
     "name": "stdout",
     "output_type": "stream",
     "text": [
      "<class 'pandas.core.frame.DataFrame'>\n",
      "Int64Index: 19943660 entries, 0 to 9972077\n",
      "Data columns (total 10 columns):\n",
      " #   Column         Dtype         \n",
      "---  ------         -----         \n",
      " 0   date           datetime64[ns]\n",
      " 1   week           int32         \n",
      " 2   day            int64         \n",
      " 3   day_name       object        \n",
      " 4   hour           int64         \n",
      " 5   origin         object        \n",
      " 6   destination    object        \n",
      " 7   trip_count     int64         \n",
      " 8   route          object        \n",
      " 9   straight_dist  float64       \n",
      "dtypes: datetime64[ns](1), float64(1), int32(1), int64(3), object(4)\n",
      "memory usage: 1.6+ GB\n"
     ]
    }
   ],
   "source": [
    "df.info()"
   ]
  },
  {
   "cell_type": "code",
   "execution_count": 58,
   "id": "d3e125db",
   "metadata": {},
   "outputs": [
    {
     "data": {
      "text/plain": [
       "(19943660, 10)"
      ]
     },
     "execution_count": 58,
     "metadata": {},
     "output_type": "execute_result"
    }
   ],
   "source": [
    "df.shape"
   ]
  },
  {
   "cell_type": "code",
   "execution_count": 59,
   "id": "c05da816",
   "metadata": {
    "scrolled": true
   },
   "outputs": [
    {
     "data": {
      "text/html": [
       "<div>\n",
       "<style scoped>\n",
       "    .dataframe tbody tr th:only-of-type {\n",
       "        vertical-align: middle;\n",
       "    }\n",
       "\n",
       "    .dataframe tbody tr th {\n",
       "        vertical-align: top;\n",
       "    }\n",
       "\n",
       "    .dataframe thead th {\n",
       "        text-align: right;\n",
       "    }\n",
       "</style>\n",
       "<table border=\"1\" class=\"dataframe\">\n",
       "  <thead>\n",
       "    <tr style=\"text-align: right;\">\n",
       "      <th></th>\n",
       "      <th>day_name</th>\n",
       "      <th>hour</th>\n",
       "      <th>route</th>\n",
       "      <th>trip_count</th>\n",
       "    </tr>\n",
       "  </thead>\n",
       "  <tbody>\n",
       "    <tr>\n",
       "      <th>0</th>\n",
       "      <td>Friday</td>\n",
       "      <td>0</td>\n",
       "      <td>12TH-12TH</td>\n",
       "      <td>1.422222</td>\n",
       "    </tr>\n",
       "    <tr>\n",
       "      <th>1</th>\n",
       "      <td>Friday</td>\n",
       "      <td>0</td>\n",
       "      <td>12TH-16TH</td>\n",
       "      <td>3.325843</td>\n",
       "    </tr>\n",
       "    <tr>\n",
       "      <th>2</th>\n",
       "      <td>Friday</td>\n",
       "      <td>0</td>\n",
       "      <td>12TH-19TH</td>\n",
       "      <td>1.219512</td>\n",
       "    </tr>\n",
       "    <tr>\n",
       "      <th>3</th>\n",
       "      <td>Friday</td>\n",
       "      <td>0</td>\n",
       "      <td>12TH-24TH</td>\n",
       "      <td>4.809524</td>\n",
       "    </tr>\n",
       "    <tr>\n",
       "      <th>4</th>\n",
       "      <td>Friday</td>\n",
       "      <td>0</td>\n",
       "      <td>12TH-ASHB</td>\n",
       "      <td>2.619048</td>\n",
       "    </tr>\n",
       "  </tbody>\n",
       "</table>\n",
       "</div>"
      ],
      "text/plain": [
       "  day_name  hour      route  trip_count\n",
       "0   Friday     0  12TH-12TH    1.422222\n",
       "1   Friday     0  12TH-16TH    3.325843\n",
       "2   Friday     0  12TH-19TH    1.219512\n",
       "3   Friday     0  12TH-24TH    4.809524\n",
       "4   Friday     0  12TH-ASHB    2.619048"
      ]
     },
     "execution_count": 59,
     "metadata": {},
     "output_type": "execute_result"
    }
   ],
   "source": [
    "# Veri çok uzun olduğundan biraz kısaltalım ortalamayla\n",
    "data = df.groupby([\"day_name\",\"hour\",\"route\"])[\"trip_count\"].mean().reset_index()\n",
    "data.head()"
   ]
  },
  {
   "cell_type": "code",
   "execution_count": 60,
   "id": "df937339",
   "metadata": {},
   "outputs": [
    {
     "data": {
      "text/plain": [
       "(307219, 4)"
      ]
     },
     "execution_count": 60,
     "metadata": {},
     "output_type": "execute_result"
    }
   ],
   "source": [
    "data.shape"
   ]
  },
  {
   "cell_type": "code",
   "execution_count": 61,
   "id": "775ebf2e",
   "metadata": {},
   "outputs": [],
   "source": [
    "# Makine öğrenmesi için x ve y belirleme\n",
    "x = data[[\"hour\", \"route\"]]\n",
    "y = data[\"trip_count\"]"
   ]
  },
  {
   "cell_type": "code",
   "execution_count": 62,
   "id": "e50c83a4",
   "metadata": {},
   "outputs": [],
   "source": [
    "# Object verileri rakamsal veri olarak gruplama\n",
    "x = pd.get_dummies(x, drop_first=True)"
   ]
  },
  {
   "cell_type": "code",
   "execution_count": 63,
   "id": "fa274f5b",
   "metadata": {},
   "outputs": [
    {
     "data": {
      "image/png": "[encoded data removed]",
      "text/plain": [
       "<Figure size 432x288 with 1 Axes>"
      ]
     },
     "metadata": {},
     "output_type": "display_data"
    }
   ],
   "source": [
    "sns.barplot(x=np.arange(1,(len(data[0:100])+1)),y=np.log(data[0:100].trip_count));"
   ]
  },
  {
   "cell_type": "code",
   "execution_count": 64,
   "id": "3d4034b2",
   "metadata": {},
   "outputs": [
    {
     "data": {
      "text/plain": [
       "count    307219.000000\n",
       "mean          8.594815\n",
       "std          25.706085\n",
       "min           1.000000\n",
       "25%           1.347826\n",
       "50%           2.116883\n",
       "75%           5.625000\n",
       "max         775.711538\n",
       "Name: trip_count, dtype: float64"
      ]
     },
     "execution_count": 64,
     "metadata": {},
     "output_type": "execute_result"
    }
   ],
   "source": [
    "data.trip_count.describe()"
   ]
  },
  {
   "cell_type": "markdown",
   "id": "a969eab2",
   "metadata": {},
   "source": [
    "#### Gerekli Kütüphaneleri import edilmesi"
   ]
  },
  {
   "cell_type": "code",
   "execution_count": 65,
   "id": "e4a11354",
   "metadata": {},
   "outputs": [],
   "source": [
    "from sklearn.metrics import r2_score, mean_squared_error, mean_absolute_error\n",
    "from sklearn.linear_model import LinearRegression\n",
    "from xgboost import XGBRegressor\n",
    "\n",
    "from sklearn.model_selection import train_test_split"
   ]
  },
  {
   "cell_type": "markdown",
   "id": "572f75ed",
   "metadata": {},
   "source": [
    "##### Linear Regression ile Model Tahmini"
   ]
  },
  {
   "cell_type": "code",
   "execution_count": 66,
   "id": "fa8142b0",
   "metadata": {},
   "outputs": [],
   "source": [
    "L = LinearRegression()"
   ]
  },
  {
   "cell_type": "code",
   "execution_count": 67,
   "id": "ab69ba79",
   "metadata": {},
   "outputs": [],
   "source": [
    "# x ve y yi öğrenme ve test için ayırıyoruz\n",
    "x_train,x_test,y_train,y_test = train_test_split(x,y, test_size = 0.20, random_state=42)"
   ]
  },
  {
   "cell_type": "code",
   "execution_count": 68,
   "id": "2ba5583a",
   "metadata": {},
   "outputs": [
    {
     "data": {
      "text/plain": [
       "LinearRegression()"
      ]
     },
     "execution_count": 68,
     "metadata": {},
     "output_type": "execute_result"
    }
   ],
   "source": [
    "# Burda modeli eğitiyoruz\n",
    "L.fit(x_train, y_train)"
   ]
  },
  {
   "cell_type": "code",
   "execution_count": 69,
   "id": "95bd11a8",
   "metadata": {},
   "outputs": [],
   "source": [
    "# Modelimiz ile test için ayırdığımız veriyi test ediyoruz\n",
    "tahmin = L.predict(x_test)"
   ]
  },
  {
   "cell_type": "code",
   "execution_count": 70,
   "id": "d0ceb742",
   "metadata": {},
   "outputs": [
    {
     "name": "stdout",
     "output_type": "stream",
     "text": [
      "R2_Score :  0.2456327767734654\n",
      "Mean Squared Error :  23.48957110483693\n",
      "Mean Absolute Error :  7.301827249320379\n"
     ]
    }
   ],
   "source": [
    "# Modelimizin R2_score, mean squared error ve mean absolute error una bakıyoruz\n",
    "print(*[\"R2_Score : \", r2_score(y_test, tahmin)])\n",
    "print(*[\"Mean Squared Error : \", (mean_squared_error(y_test, tahmin)**.5)])\n",
    "print(*[\"Mean Absolute Error : \", mean_absolute_error(y_test, tahmin)])"
   ]
  },
  {
   "cell_type": "code",
   "execution_count": 71,
   "id": "83009baf",
   "metadata": {},
   "outputs": [
    {
     "data": {
      "text/plain": [
       "23.48957110483693"
      ]
     },
     "execution_count": 71,
     "metadata": {},
     "output_type": "execute_result"
    }
   ],
   "source": [
    "mean_squared_error(y_test, tahmin)**.5"
   ]
  },
  {
   "cell_type": "code",
   "execution_count": 72,
   "id": "2ae2b1c7",
   "metadata": {},
   "outputs": [
    {
     "data": {
      "text/plain": [
       "7.301827249320379"
      ]
     },
     "execution_count": 72,
     "metadata": {},
     "output_type": "execute_result"
    }
   ],
   "source": [
    "mean_absolute_error(y_test, tahmin)"
   ]
  },
  {
   "cell_type": "markdown",
   "id": "9c1d0dd8",
   "metadata": {},
   "source": [
    "##### XGradient Boost Regression ile Model Tahmini"
   ]
  },
  {
   "cell_type": "code",
   "execution_count": 73,
   "id": "e022cc6e",
   "metadata": {},
   "outputs": [],
   "source": [
    "XGBR = XGBRegressor()"
   ]
  },
  {
   "cell_type": "code",
   "execution_count": 74,
   "id": "cf6ac82e",
   "metadata": {},
   "outputs": [],
   "source": [
    "x_train,x_test,y_train,y_test = train_test_split(x,y, test_size = 0.20, random_state=42)"
   ]
  },
  {
   "cell_type": "code",
   "execution_count": 75,
   "id": "af2f5020",
   "metadata": {},
   "outputs": [
    {
     "data": {
      "text/plain": [
       "XGBRegressor(base_score=0.5, booster='gbtree', callbacks=None,\n",
       "             colsample_bylevel=1, colsample_bynode=1, colsample_bytree=1,\n",
       "             early_stopping_rounds=None, enable_categorical=False,\n",
       "             eval_metric=None, feature_types=None, gamma=0, gpu_id=-1,\n",
       "             grow_policy='depthwise', importance_type=None,\n",
       "             interaction_constraints='', learning_rate=0.300000012, max_bin=256,\n",
       "             max_cat_threshold=64, max_cat_to_onehot=4, max_delta_step=0,\n",
       "             max_depth=6, max_leaves=0, min_child_weight=1, missing=nan,\n",
       "             monotone_constraints='()', n_estimators=100, n_jobs=0,\n",
       "             num_parallel_tree=1, predictor='auto', random_state=0, ...)"
      ]
     },
     "execution_count": 75,
     "metadata": {},
     "output_type": "execute_result"
    }
   ],
   "source": [
    "# Burda modeli eğitiyoruz\n",
    "XGBR.fit(x_train, y_train)"
   ]
  },
  {
   "cell_type": "code",
   "execution_count": 76,
   "id": "25650c2c",
   "metadata": {},
   "outputs": [],
   "source": [
    "# Modelimiz ile test için ayırdığımız veriyi test ediyoruz\n",
    "tahmin = XGBR.predict(x_test)"
   ]
  },
  {
   "cell_type": "code",
   "execution_count": 77,
   "id": "ac91cd88",
   "metadata": {},
   "outputs": [
    {
     "name": "stdout",
     "output_type": "stream",
     "text": [
      "R2_Score :  0.477146063586981\n",
      "Mean Squared Error :  19.555722817131876\n",
      "Mean Absolute Error :  7.2279560127662705\n"
     ]
    }
   ],
   "source": [
    "# Modelimizin R2_score, mean squared error ve mean absolute error una bakıyoruz\n",
    "print(*[\"R2_Score : \", r2_score(y_test, tahmin)])\n",
    "print(*[\"Mean Squared Error : \", (mean_squared_error(y_test, tahmin)**.5)])\n",
    "print(*[\"Mean Absolute Error : \", mean_absolute_error(y_test, tahmin)])"
   ]
  },
  {
   "cell_type": "markdown",
   "id": "d13aaebe",
   "metadata": {},
   "source": [
    "### How would you want the city or Bart officials to use your data?"
   ]
  },
  {
   "cell_type": "markdown",
   "id": "1b99b4eb",
   "metadata": {},
   "source": [
    "Tabi ki  düzenlemiş olduğum veriyi aşağıdaki kod yardımıyla kaydedip onlarla paylaşırız."
   ]
  },
  {
   "cell_type": "code",
   "execution_count": 79,
   "id": "c777fcd7",
   "metadata": {},
   "outputs": [],
   "source": [
    "df.to_csv(\"2016-2017-bart-data.csv\", index = False)"
   ]
  },
  {
   "cell_type": "code",
   "execution_count": null,
   "id": "15cef988",
   "metadata": {},
   "outputs": [],
   "source": []
  }
 ],
 "metadata": {
  "kernelspec": {
   "display_name": "Python 3 (ipykernel)",
   "language": "python",
   "name": "python3"
  },
  "language_info": {
   "codemirror_mode": {
    "name": "ipython",
    "version": 3
   },
   "file_extension": ".py",
   "mimetype": "text/x-python",
   "name": "python",
   "nbconvert_exporter": "python",
   "pygments_lexer": "ipython3",
   "version": "3.9.12"
  }
 },
 "nbformat": 4,
 "nbformat_minor": 5
}
